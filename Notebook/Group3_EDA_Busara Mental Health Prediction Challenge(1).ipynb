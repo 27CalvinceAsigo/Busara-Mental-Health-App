{
 "cells": [
  {
   "cell_type": "markdown",
   "id": "7c8afd90",
   "metadata": {},
   "source": [
    "# Exploratory Data Analysis for Busara Mental Health Prediction Challenge. "
   ]
  },
  {
   "cell_type": "markdown",
   "id": "ef4e0901",
   "metadata": {},
   "source": [
    "## Hypothesis"
   ]
  },
  {
   "cell_type": "markdown",
   "id": "42507ca1",
   "metadata": {},
   "source": [
    "1.Married people are likely to suffer from depression\n",
    "\n",
    "2.Female respondents are likely to suffer from depression.\n",
    "\n",
    "3.Children are unlikely to suffer from depression.\n",
    "\n",
    "4.Most people who do not have savings are likely to be depressed.\n",
    "\n",
    "5.Youth are most likely to be depressed.\n",
    "\n",
    "6.Females were more depressed than males.\n",
    "\n",
    "7.Females who were not depressed were more than males.\n"
   ]
  },
  {
   "cell_type": "code",
   "execution_count": 1,
   "id": "0a87639a",
   "metadata": {},
   "outputs": [],
   "source": [
    "# Load important packages\n",
    "\n",
    "import numpy as np\n",
    "import pandas as pd\n",
    "import matplotlib.pyplot as plt\n",
    "import seaborn as sns  \n",
    "plt.rcParams[\"axes.labelsize\"] = 18\n",
    "import warnings\n",
    "warnings.filterwarnings('ignore')\n",
    "%matplotlib inline \n"
   ]
  },
  {
   "cell_type": "code",
   "execution_count": 2,
   "id": "ee4cf0d2",
   "metadata": {},
   "outputs": [],
   "source": [
    "# read dataset\n",
    "\n",
    "data = pd.read_csv('/home/valentineiscoming/Pictures/project 2022 -Busara Mental Health Prediction Challenge/train.csv')"
   ]
  },
  {
   "cell_type": "code",
   "execution_count": 3,
   "id": "8d56ab82",
   "metadata": {},
   "outputs": [
    {
     "data": {
      "text/html": [
       "<div>\n",
       "<style scoped>\n",
       "    .dataframe tbody tr th:only-of-type {\n",
       "        vertical-align: middle;\n",
       "    }\n",
       "\n",
       "    .dataframe tbody tr th {\n",
       "        vertical-align: top;\n",
       "    }\n",
       "\n",
       "    .dataframe thead th {\n",
       "        text-align: right;\n",
       "    }\n",
       "</style>\n",
       "<table border=\"1\" class=\"dataframe\">\n",
       "  <thead>\n",
       "    <tr style=\"text-align: right;\">\n",
       "      <th></th>\n",
       "      <th>name</th>\n",
       "      <th>detail</th>\n",
       "    </tr>\n",
       "  </thead>\n",
       "  <tbody>\n",
       "    <tr>\n",
       "      <th>0</th>\n",
       "      <td>surveyid</td>\n",
       "      <td>Individual Identifier</td>\n",
       "    </tr>\n",
       "    <tr>\n",
       "      <th>1</th>\n",
       "      <td>village</td>\n",
       "      <td>Village Identifier</td>\n",
       "    </tr>\n",
       "    <tr>\n",
       "      <th>2</th>\n",
       "      <td>survey_date</td>\n",
       "      <td>Date of Interview (days since Jan1 of first year)</td>\n",
       "    </tr>\n",
       "    <tr>\n",
       "      <th>3</th>\n",
       "      <td>femaleres</td>\n",
       "      <td>Female respondent</td>\n",
       "    </tr>\n",
       "    <tr>\n",
       "      <th>4</th>\n",
       "      <td>age</td>\n",
       "      <td>Age (respondent)</td>\n",
       "    </tr>\n",
       "    <tr>\n",
       "      <th>...</th>\n",
       "      <td>...</td>\n",
       "      <td>...</td>\n",
       "    </tr>\n",
       "    <tr>\n",
       "      <th>70</th>\n",
       "      <td>saved_mpesa</td>\n",
       "      <td>Saved money using M-Pesa</td>\n",
       "    </tr>\n",
       "    <tr>\n",
       "      <th>71</th>\n",
       "      <td>amount_saved_mpesa</td>\n",
       "      <td>Amount saved using M-Pesa</td>\n",
       "    </tr>\n",
       "    <tr>\n",
       "      <th>72</th>\n",
       "      <td>early_survey</td>\n",
       "      <td>Psychology survey in 1st wave (dummy)</td>\n",
       "    </tr>\n",
       "    <tr>\n",
       "      <th>73</th>\n",
       "      <td>depressed</td>\n",
       "      <td>Meets epidemiological threshold for moderate d...</td>\n",
       "    </tr>\n",
       "    <tr>\n",
       "      <th>74</th>\n",
       "      <td>day_of_week</td>\n",
       "      <td>Day of week of survey (0=Sunday)</td>\n",
       "    </tr>\n",
       "  </tbody>\n",
       "</table>\n",
       "<p>75 rows × 2 columns</p>\n",
       "</div>"
      ],
      "text/plain": [
       "                  name                                             detail\n",
       "0             surveyid                              Individual Identifier\n",
       "1              village                                 Village Identifier\n",
       "2          survey_date  Date of Interview (days since Jan1 of first year)\n",
       "3            femaleres                                  Female respondent\n",
       "4                  age                                   Age (respondent)\n",
       "..                 ...                                                ...\n",
       "70         saved_mpesa                           Saved money using M-Pesa\n",
       "71  amount_saved_mpesa                          Amount saved using M-Pesa\n",
       "72        early_survey              Psychology survey in 1st wave (dummy)\n",
       "73           depressed  Meets epidemiological threshold for moderate d...\n",
       "74         day_of_week                   Day of week of survey (0=Sunday)\n",
       "\n",
       "[75 rows x 2 columns]"
      ]
     },
     "execution_count": 3,
     "metadata": {},
     "output_type": "execute_result"
    }
   ],
   "source": [
    "# read variable definitions\n",
    "\n",
    "var_definitions = pd.read_csv('/home/valentineiscoming/Pictures/project 2022 -Busara Mental Health Prediction Challenge/Variable_explanations.csv')\n",
    "\n",
    "var_definitions"
   ]
  },
  {
   "cell_type": "code",
   "execution_count": 4,
   "id": "aff62cf1",
   "metadata": {},
   "outputs": [
    {
     "name": "stdout",
     "output_type": "stream",
     "text": [
      "train data shape : (1143, 75)\n"
     ]
    }
   ],
   "source": [
    "# print shape \n",
    "\n",
    "print('train data shape :', data.shape)"
   ]
  },
  {
   "cell_type": "code",
   "execution_count": 5,
   "id": "9c49a6de",
   "metadata": {},
   "outputs": [
    {
     "data": {
      "text/html": [
       "<div>\n",
       "<style scoped>\n",
       "    .dataframe tbody tr th:only-of-type {\n",
       "        vertical-align: middle;\n",
       "    }\n",
       "\n",
       "    .dataframe tbody tr th {\n",
       "        vertical-align: top;\n",
       "    }\n",
       "\n",
       "    .dataframe thead th {\n",
       "        text-align: right;\n",
       "    }\n",
       "</style>\n",
       "<table border=\"1\" class=\"dataframe\">\n",
       "  <thead>\n",
       "    <tr style=\"text-align: right;\">\n",
       "      <th></th>\n",
       "      <th>surveyid</th>\n",
       "      <th>village</th>\n",
       "      <th>survey_date</th>\n",
       "      <th>femaleres</th>\n",
       "      <th>age</th>\n",
       "      <th>married</th>\n",
       "      <th>children</th>\n",
       "      <th>hhsize</th>\n",
       "      <th>edu</th>\n",
       "      <th>hh_children</th>\n",
       "      <th>...</th>\n",
       "      <th>given_mpesa</th>\n",
       "      <th>amount_given_mpesa</th>\n",
       "      <th>received_mpesa</th>\n",
       "      <th>amount_received_mpesa</th>\n",
       "      <th>net_mpesa</th>\n",
       "      <th>saved_mpesa</th>\n",
       "      <th>amount_saved_mpesa</th>\n",
       "      <th>early_survey</th>\n",
       "      <th>depressed</th>\n",
       "      <th>day_of_week</th>\n",
       "    </tr>\n",
       "  </thead>\n",
       "  <tbody>\n",
       "    <tr>\n",
       "      <th>0</th>\n",
       "      <td>926</td>\n",
       "      <td>91</td>\n",
       "      <td>23-Nov-61</td>\n",
       "      <td>1</td>\n",
       "      <td>28.0</td>\n",
       "      <td>1</td>\n",
       "      <td>4</td>\n",
       "      <td>6</td>\n",
       "      <td>10</td>\n",
       "      <td>0</td>\n",
       "      <td>...</td>\n",
       "      <td>0</td>\n",
       "      <td>0.0</td>\n",
       "      <td>0</td>\n",
       "      <td>0.000000</td>\n",
       "      <td>0.000000</td>\n",
       "      <td>1</td>\n",
       "      <td>0.000000</td>\n",
       "      <td>0</td>\n",
       "      <td>0</td>\n",
       "      <td>5</td>\n",
       "    </tr>\n",
       "    <tr>\n",
       "      <th>1</th>\n",
       "      <td>747</td>\n",
       "      <td>57</td>\n",
       "      <td>24-Oct-61</td>\n",
       "      <td>1</td>\n",
       "      <td>23.0</td>\n",
       "      <td>1</td>\n",
       "      <td>3</td>\n",
       "      <td>5</td>\n",
       "      <td>8</td>\n",
       "      <td>0</td>\n",
       "      <td>...</td>\n",
       "      <td>0</td>\n",
       "      <td>0.0</td>\n",
       "      <td>1</td>\n",
       "      <td>4.804611</td>\n",
       "      <td>4.804611</td>\n",
       "      <td>0</td>\n",
       "      <td>0.000000</td>\n",
       "      <td>0</td>\n",
       "      <td>1</td>\n",
       "      <td>3</td>\n",
       "    </tr>\n",
       "    <tr>\n",
       "      <th>2</th>\n",
       "      <td>1190</td>\n",
       "      <td>115</td>\n",
       "      <td>05-Oct-61</td>\n",
       "      <td>1</td>\n",
       "      <td>22.0</td>\n",
       "      <td>1</td>\n",
       "      <td>3</td>\n",
       "      <td>5</td>\n",
       "      <td>9</td>\n",
       "      <td>0</td>\n",
       "      <td>...</td>\n",
       "      <td>0</td>\n",
       "      <td>0.0</td>\n",
       "      <td>0</td>\n",
       "      <td>8.007685</td>\n",
       "      <td>8.007685</td>\n",
       "      <td>1</td>\n",
       "      <td>0.000000</td>\n",
       "      <td>0</td>\n",
       "      <td>0</td>\n",
       "      <td>5</td>\n",
       "    </tr>\n",
       "    <tr>\n",
       "      <th>3</th>\n",
       "      <td>1065</td>\n",
       "      <td>97</td>\n",
       "      <td>23-Sep-61</td>\n",
       "      <td>1</td>\n",
       "      <td>27.0</td>\n",
       "      <td>1</td>\n",
       "      <td>2</td>\n",
       "      <td>4</td>\n",
       "      <td>10</td>\n",
       "      <td>2</td>\n",
       "      <td>...</td>\n",
       "      <td>0</td>\n",
       "      <td>0.0</td>\n",
       "      <td>0</td>\n",
       "      <td>0.000000</td>\n",
       "      <td>0.000000</td>\n",
       "      <td>1</td>\n",
       "      <td>1.249199</td>\n",
       "      <td>0</td>\n",
       "      <td>0</td>\n",
       "      <td>0</td>\n",
       "    </tr>\n",
       "    <tr>\n",
       "      <th>4</th>\n",
       "      <td>806</td>\n",
       "      <td>42</td>\n",
       "      <td>12-Sep-61</td>\n",
       "      <td>0</td>\n",
       "      <td>59.0</td>\n",
       "      <td>0</td>\n",
       "      <td>4</td>\n",
       "      <td>6</td>\n",
       "      <td>10</td>\n",
       "      <td>4</td>\n",
       "      <td>...</td>\n",
       "      <td>0</td>\n",
       "      <td>0.0</td>\n",
       "      <td>0</td>\n",
       "      <td>0.000000</td>\n",
       "      <td>0.000000</td>\n",
       "      <td>0</td>\n",
       "      <td>0.000000</td>\n",
       "      <td>0</td>\n",
       "      <td>0</td>\n",
       "      <td>3</td>\n",
       "    </tr>\n",
       "  </tbody>\n",
       "</table>\n",
       "<p>5 rows × 75 columns</p>\n",
       "</div>"
      ],
      "text/plain": [
       "   surveyid  village survey_date  femaleres   age  married  children  hhsize  \\\n",
       "0       926       91   23-Nov-61          1  28.0        1         4       6   \n",
       "1       747       57   24-Oct-61          1  23.0        1         3       5   \n",
       "2      1190      115   05-Oct-61          1  22.0        1         3       5   \n",
       "3      1065       97   23-Sep-61          1  27.0        1         2       4   \n",
       "4       806       42   12-Sep-61          0  59.0        0         4       6   \n",
       "\n",
       "   edu  hh_children  ...  given_mpesa  amount_given_mpesa  received_mpesa  \\\n",
       "0   10            0  ...            0                 0.0               0   \n",
       "1    8            0  ...            0                 0.0               1   \n",
       "2    9            0  ...            0                 0.0               0   \n",
       "3   10            2  ...            0                 0.0               0   \n",
       "4   10            4  ...            0                 0.0               0   \n",
       "\n",
       "   amount_received_mpesa  net_mpesa  saved_mpesa  amount_saved_mpesa  \\\n",
       "0               0.000000   0.000000            1            0.000000   \n",
       "1               4.804611   4.804611            0            0.000000   \n",
       "2               8.007685   8.007685            1            0.000000   \n",
       "3               0.000000   0.000000            1            1.249199   \n",
       "4               0.000000   0.000000            0            0.000000   \n",
       "\n",
       "   early_survey  depressed  day_of_week  \n",
       "0             0          0            5  \n",
       "1             0          1            3  \n",
       "2             0          0            5  \n",
       "3             0          0            0  \n",
       "4             0          0            3  \n",
       "\n",
       "[5 rows x 75 columns]"
      ]
     },
     "execution_count": 5,
     "metadata": {},
     "output_type": "execute_result"
    }
   ],
   "source": [
    "# view five rows of dataset\n",
    "\n",
    "data.head() "
   ]
  },
  {
   "cell_type": "code",
   "execution_count": 6,
   "id": "d7408ad5",
   "metadata": {},
   "outputs": [
    {
     "data": {
      "text/plain": [
       "['surveyid',\n",
       " 'village',\n",
       " 'survey_date',\n",
       " 'femaleres',\n",
       " 'age',\n",
       " 'married',\n",
       " 'children',\n",
       " 'hhsize',\n",
       " 'edu',\n",
       " 'hh_children',\n",
       " 'hh_totalmembers',\n",
       " 'cons_nondurable',\n",
       " 'asset_livestock',\n",
       " 'asset_durable',\n",
       " 'asset_phone',\n",
       " 'asset_savings',\n",
       " 'asset_land_owned_total',\n",
       " 'asset_niceroof',\n",
       " 'cons_allfood',\n",
       " 'cons_ownfood',\n",
       " 'cons_alcohol',\n",
       " 'cons_tobacco',\n",
       " 'cons_med_total',\n",
       " 'cons_med_children',\n",
       " 'cons_ed',\n",
       " 'cons_social',\n",
       " 'cons_other',\n",
       " 'ent_wagelabor',\n",
       " 'ent_ownfarm',\n",
       " 'ent_business',\n",
       " 'ent_nonagbusiness',\n",
       " 'ent_employees',\n",
       " 'ent_nonag_revenue',\n",
       " 'ent_nonag_flowcost',\n",
       " 'ent_farmrevenue',\n",
       " 'ent_farmexpenses',\n",
       " 'ent_animalstockrev',\n",
       " 'ent_total_cost',\n",
       " 'fs_adskipm_often',\n",
       " 'fs_adwholed_often',\n",
       " 'fs_chskipm_often',\n",
       " 'fs_chwholed_often',\n",
       " 'fs_meat',\n",
       " 'fs_enoughtom',\n",
       " 'fs_sleephun',\n",
       " 'med_expenses_hh_ep',\n",
       " 'med_expenses_sp_ep',\n",
       " 'med_expenses_child_ep',\n",
       " 'med_portion_sickinjured',\n",
       " 'med_port_sick_child',\n",
       " 'med_afford_port',\n",
       " 'med_sickdays_hhave',\n",
       " 'med_healthconsult',\n",
       " 'med_vacc_newborns',\n",
       " 'med_child_check',\n",
       " 'med_u5_deaths',\n",
       " 'ed_expenses',\n",
       " 'ed_expenses_perkid',\n",
       " 'ed_schoolattend',\n",
       " 'ed_sch_missedpc',\n",
       " 'ed_work_act_pc',\n",
       " 'labor_primary',\n",
       " 'wage_expenditures',\n",
       " 'durable_investment',\n",
       " 'nondurable_investment',\n",
       " 'given_mpesa',\n",
       " 'amount_given_mpesa',\n",
       " 'received_mpesa',\n",
       " 'amount_received_mpesa',\n",
       " 'net_mpesa',\n",
       " 'saved_mpesa',\n",
       " 'amount_saved_mpesa',\n",
       " 'early_survey',\n",
       " 'depressed',\n",
       " 'day_of_week']"
      ]
     },
     "execution_count": 6,
     "metadata": {},
     "output_type": "execute_result"
    }
   ],
   "source": [
    "# view columns\n",
    "\n",
    "list(data.columns) "
   ]
  },
  {
   "cell_type": "code",
   "execution_count": 7,
   "id": "11da6b7a",
   "metadata": {},
   "outputs": [
    {
     "name": "stdout",
     "output_type": "stream",
     "text": [
      "<class 'pandas.core.frame.DataFrame'>\n",
      "RangeIndex: 1143 entries, 0 to 1142\n",
      "Data columns (total 75 columns):\n",
      " #   Column                   Non-Null Count  Dtype  \n",
      "---  ------                   --------------  -----  \n",
      " 0   surveyid                 1143 non-null   int64  \n",
      " 1   village                  1143 non-null   int64  \n",
      " 2   survey_date              1143 non-null   object \n",
      " 3   femaleres                1143 non-null   int64  \n",
      " 4   age                      1143 non-null   float64\n",
      " 5   married                  1143 non-null   int64  \n",
      " 6   children                 1143 non-null   int64  \n",
      " 7   hhsize                   1143 non-null   int64  \n",
      " 8   edu                      1143 non-null   int64  \n",
      " 9   hh_children              1143 non-null   int64  \n",
      " 10  hh_totalmembers          809 non-null    float64\n",
      " 11  cons_nondurable          1143 non-null   float64\n",
      " 12  asset_livestock          1143 non-null   float64\n",
      " 13  asset_durable            1143 non-null   float64\n",
      " 14  asset_phone              1143 non-null   float64\n",
      " 15  asset_savings            1143 non-null   float64\n",
      " 16  asset_land_owned_total   1143 non-null   float64\n",
      " 17  asset_niceroof           1143 non-null   int64  \n",
      " 18  cons_allfood             1143 non-null   float64\n",
      " 19  cons_ownfood             1143 non-null   float64\n",
      " 20  cons_alcohol             1100 non-null   float64\n",
      " 21  cons_tobacco             1123 non-null   float64\n",
      " 22  cons_med_total           1143 non-null   float64\n",
      " 23  cons_med_children        724 non-null    float64\n",
      " 24  cons_ed                  1143 non-null   float64\n",
      " 25  cons_social              1143 non-null   float64\n",
      " 26  cons_other               1143 non-null   float64\n",
      " 27  ent_wagelabor            1143 non-null   int64  \n",
      " 28  ent_ownfarm              1143 non-null   int64  \n",
      " 29  ent_business             1143 non-null   int64  \n",
      " 30  ent_nonagbusiness        1143 non-null   int64  \n",
      " 31  ent_employees            1143 non-null   int64  \n",
      " 32  ent_nonag_revenue        1143 non-null   float64\n",
      " 33  ent_nonag_flowcost       1143 non-null   float64\n",
      " 34  ent_farmrevenue          1143 non-null   float64\n",
      " 35  ent_farmexpenses         1143 non-null   float64\n",
      " 36  ent_animalstockrev       1143 non-null   float64\n",
      " 37  ent_total_cost           1143 non-null   float64\n",
      " 38  fs_adskipm_often         1143 non-null   float64\n",
      " 39  fs_adwholed_often        1143 non-null   float64\n",
      " 40  fs_chskipm_often         727 non-null    float64\n",
      " 41  fs_chwholed_often        727 non-null    float64\n",
      " 42  fs_meat                  809 non-null    float64\n",
      " 43  fs_enoughtom             809 non-null    float64\n",
      " 44  fs_sleephun              809 non-null    float64\n",
      " 45  med_expenses_hh_ep       450 non-null    float64\n",
      " 46  med_expenses_sp_ep       265 non-null    float64\n",
      " 47  med_expenses_child_ep    543 non-null    float64\n",
      " 48  med_portion_sickinjured  809 non-null    float64\n",
      " 49  med_port_sick_child      727 non-null    float64\n",
      " 50  med_afford_port          720 non-null    float64\n",
      " 51  med_sickdays_hhave       809 non-null    float64\n",
      " 52  med_healthconsult        720 non-null    float64\n",
      " 53  med_vacc_newborns        1143 non-null   int64  \n",
      " 54  med_child_check          1143 non-null   int64  \n",
      " 55  med_u5_deaths            59 non-null     float64\n",
      " 56  ed_expenses              680 non-null    float64\n",
      " 57  ed_expenses_perkid       680 non-null    float64\n",
      " 58  ed_schoolattend          680 non-null    float64\n",
      " 59  ed_sch_missedpc          676 non-null    float64\n",
      " 60  ed_work_act_pc           572 non-null    float64\n",
      " 61  labor_primary            1143 non-null   int64  \n",
      " 62  wage_expenditures        1143 non-null   int64  \n",
      " 63  durable_investment       1143 non-null   float64\n",
      " 64  nondurable_investment    1143 non-null   float64\n",
      " 65  given_mpesa              1143 non-null   int64  \n",
      " 66  amount_given_mpesa       1143 non-null   float64\n",
      " 67  received_mpesa           1143 non-null   int64  \n",
      " 68  amount_received_mpesa    1143 non-null   float64\n",
      " 69  net_mpesa                1143 non-null   float64\n",
      " 70  saved_mpesa              1143 non-null   int64  \n",
      " 71  amount_saved_mpesa       1143 non-null   float64\n",
      " 72  early_survey             1143 non-null   int64  \n",
      " 73  depressed                1143 non-null   int64  \n",
      " 74  day_of_week              1143 non-null   int64  \n",
      "dtypes: float64(50), int64(24), object(1)\n",
      "memory usage: 669.9+ KB\n",
      "None\n"
     ]
    }
   ],
   "source": [
    "# information of variables\n",
    "\n",
    "print(data.info())"
   ]
  },
  {
   "cell_type": "code",
   "execution_count": 8,
   "id": "2e12d42e",
   "metadata": {},
   "outputs": [
    {
     "name": "stdout",
     "output_type": "stream",
     "text": [
      "missing values: surveyid              0\n",
      "village               0\n",
      "survey_date           0\n",
      "femaleres             0\n",
      "age                   0\n",
      "                     ..\n",
      "saved_mpesa           0\n",
      "amount_saved_mpesa    0\n",
      "early_survey          0\n",
      "depressed             0\n",
      "day_of_week           0\n",
      "Length: 75, dtype: int64\n"
     ]
    }
   ],
   "source": [
    "# checking missing values\n",
    "\n",
    "print('missing values:', data.isnull().sum())"
   ]
  },
  {
   "cell_type": "markdown",
   "id": "0d0484e9",
   "metadata": {},
   "source": [
    "## Univariate Analysis"
   ]
  },
  {
   "cell_type": "code",
   "execution_count": 9,
   "id": "0bdf8a41",
   "metadata": {},
   "outputs": [
    {
     "data": {
      "text/plain": [
       "0    950\n",
       "1    193\n",
       "Name: depressed, dtype: int64"
      ]
     },
     "execution_count": 9,
     "metadata": {},
     "output_type": "execute_result"
    }
   ],
   "source": [
    "# view the target\n",
    "\n",
    "data['depressed'].value_counts()"
   ]
  },
  {
   "cell_type": "code",
   "execution_count": 10,
   "id": "c47c0b52",
   "metadata": {},
   "outputs": [
    {
     "data": {
      "text/plain": [
       "<seaborn.axisgrid.FacetGrid at 0x7f19781816a0>"
      ]
     },
     "execution_count": 10,
     "metadata": {},
     "output_type": "execute_result"
    },
    {
     "data": {
      "image/png": "[encoded data removed]",
      "text/plain": [
       "<Figure size 360x360 with 1 Axes>"
      ]
     },
     "metadata": {
      "needs_background": "light"
     },
     "output_type": "display_data"
    }
   ],
   "source": [
    "# explore target distribution\n",
    "\n",
    "sns.catplot(x=\"depressed\", kind=\"count\", data= data)\n"
   ]
  },
  {
   "cell_type": "markdown",
   "id": "46517743",
   "metadata": {},
   "source": [
    "where:\n",
    "    1- number of people depressed\n",
    "    0- number of people not depressed\n",
    "    \n",
    "    count -number of surved people\n",
    "    \n",
    "Most people surved are not depressed"
   ]
  },
  {
   "cell_type": "code",
   "execution_count": 11,
   "id": "7ff90360",
   "metadata": {},
   "outputs": [
    {
     "data": {
      "text/plain": [
       "<seaborn.axisgrid.FacetGrid at 0x7f197a1fb6a0>"
      ]
     },
     "execution_count": 11,
     "metadata": {},
     "output_type": "execute_result"
    },
    {
     "data": {
      "image/png": "[encoded data removed]",
      "text/plain": [
       "<Figure size 360x360 with 1 Axes>"
      ]
     },
     "metadata": {
      "needs_background": "light"
     },
     "output_type": "display_data"
    }
   ],
   "source": [
    "# explore married distribution\n",
    "\n",
    "sns.catplot(x=\"married\", kind=\"count\", data=data)"
   ]
  },
  {
   "cell_type": "markdown",
   "id": "a3a70031",
   "metadata": {},
   "source": [
    "where:\n",
    "    1- number of people married\n",
    "    0- number of people not married\n",
    "    \n",
    "    count -number of surved people\n",
    "\n",
    "Most married people were surveyed.\n"
   ]
  },
  {
   "cell_type": "code",
   "execution_count": 12,
   "id": "4f24ae7a",
   "metadata": {},
   "outputs": [
    {
     "data": {
      "text/plain": [
       "<seaborn.axisgrid.FacetGrid at 0x7f193ab2aa60>"
      ]
     },
     "execution_count": 12,
     "metadata": {},
     "output_type": "execute_result"
    },
    {
     "data": {
      "image/png": "[encoded data removed]",
      "text/plain": [
       "<Figure size 360x360 with 1 Axes>"
      ]
     },
     "metadata": {
      "needs_background": "light"
     },
     "output_type": "display_data"
    }
   ],
   "source": [
    "# Explore day of week\n",
    "\n",
    "sns.catplot(x=\"day_of_week\", kind=\"count\", data=data)"
   ]
  },
  {
   "cell_type": "markdown",
   "id": "5972e8b2",
   "metadata": {},
   "source": [
    "where:\n",
    "    0 - 6 = represents days of the week from monday to sunday\n",
    "    \n",
    "    count -number of surved people\n",
    "    \n",
    "The sixth day of the week recorded more than the first day.  "
   ]
  },
  {
   "cell_type": "code",
   "execution_count": 13,
   "id": "5f2211fc",
   "metadata": {},
   "outputs": [
    {
     "data": {
      "text/plain": [
       "<seaborn.axisgrid.FacetGrid at 0x7f193ab2afa0>"
      ]
     },
     "execution_count": 13,
     "metadata": {},
     "output_type": "execute_result"
    },
    {
     "data": {
      "image/png": "[encoded data removed]",
      "text/plain": [
       "<Figure size 360x360 with 1 Axes>"
      ]
     },
     "metadata": {
      "needs_background": "light"
     },
     "output_type": "display_data"
    }
   ],
   "source": [
    "# Explore femaleres distribution\n",
    "\n",
    "sns.catplot(x=\"femaleres\", kind=\"count\", data=data)"
   ]
  },
  {
   "cell_type": "markdown",
   "id": "500ca6ec",
   "metadata": {},
   "source": [
    "where:\n",
    "    1- number of female respondents\n",
    "    0- number of people not male respondents\n",
    "    \n",
    "    count -number of surved people\n",
    "   \n",
    "Females responded more than males."
   ]
  },
  {
   "cell_type": "code",
   "execution_count": 14,
   "id": "b41a5889",
   "metadata": {},
   "outputs": [
    {
     "data": {
      "text/plain": [
       "<seaborn.axisgrid.FacetGrid at 0x7f193a9520d0>"
      ]
     },
     "execution_count": 14,
     "metadata": {},
     "output_type": "execute_result"
    },
    {
     "data": {
      "image/png": "[encoded data removed]",
      "text/plain": [
       "<Figure size 360x360 with 1 Axes>"
      ]
     },
     "metadata": {
      "needs_background": "light"
     },
     "output_type": "display_data"
    }
   ],
   "source": [
    "# Explore  children distribution\n",
    "\n",
    "sns.catplot(x=\"children\", kind=\"count\", data=data)"
   ]
  },
  {
   "cell_type": "markdown",
   "id": "3ed93886",
   "metadata": {},
   "source": [
    "where:\n",
    "    \n",
    "    count -number of surved people\n",
    "    \n",
    "Most surveyed number of children is 3 "
   ]
  },
  {
   "cell_type": "code",
   "execution_count": 15,
   "id": "46371649",
   "metadata": {
    "scrolled": true
   },
   "outputs": [
    {
     "data": {
      "text/plain": [
       "<seaborn.axisgrid.FacetGrid at 0x7f193a87cee0>"
      ]
     },
     "execution_count": 15,
     "metadata": {},
     "output_type": "execute_result"
    },
    {
     "data": {
      "image/png": "[encoded data removed]",
      "text/plain": [
       "<Figure size 360x360 with 1 Axes>"
      ]
     },
     "metadata": {
      "needs_background": "light"
     },
     "output_type": "display_data"
    }
   ],
   "source": [
    "# Explore  hh_children distribution\n",
    "\n",
    "sns.catplot(x=\"hh_children\", kind=\"count\", data=data)"
   ]
  },
  {
   "cell_type": "markdown",
   "id": "cd154305",
   "metadata": {},
   "source": [
    "Most of the people surveyed are the household with no children."
   ]
  },
  {
   "cell_type": "code",
   "execution_count": 16,
   "id": "182b3673",
   "metadata": {},
   "outputs": [
    {
     "data": {
      "text/plain": [
       "<seaborn.axisgrid.FacetGrid at 0x7f193aaf0f10>"
      ]
     },
     "execution_count": 16,
     "metadata": {},
     "output_type": "execute_result"
    },
    {
     "data": {
      "image/png": "[encoded data removed]",
      "text/plain": [
       "<Figure size 360x360 with 1 Axes>"
      ]
     },
     "metadata": {
      "needs_background": "light"
     },
     "output_type": "display_data"
    }
   ],
   "source": [
    "# Explore  hh_totalmembers distribution\n",
    "\n",
    "#data['hh_totalmembers'] = np.round(data['hh_totalmembers'].values.astype(int))\n",
    "\n",
    "sns.catplot(x=\"hh_totalmembers\", kind=\"count\", data=data)\n"
   ]
  },
  {
   "cell_type": "markdown",
   "id": "19c6ec03",
   "metadata": {},
   "source": [
    "The size of the household most surveyed had 4 total members."
   ]
  },
  {
   "cell_type": "code",
   "execution_count": 17,
   "id": "56f23b3e",
   "metadata": {},
   "outputs": [
    {
     "data": {
      "text/plain": [
       "<seaborn.axisgrid.FacetGrid at 0x7f193a76c5e0>"
      ]
     },
     "execution_count": 17,
     "metadata": {},
     "output_type": "execute_result"
    },
    {
     "data": {
      "image/png": "[encoded data removed]",
      "text/plain": [
       "<Figure size 360x360 with 1 Axes>"
      ]
     },
     "metadata": {
      "needs_background": "light"
     },
     "output_type": "display_data"
    }
   ],
   "source": [
    "# saved_mpesa distribution\n",
    "\n",
    "sns.catplot(x=\"saved_mpesa\", kind=\"count\", data=data)"
   ]
  },
  {
   "cell_type": "markdown",
   "id": "a388f7e2",
   "metadata": {},
   "source": [
    "where: 1- number of people with saved_mpesa 0- number of people without saved_mpesa\n",
    "\n",
    "count -number of surved people\n",
    "\n",
    "Most of the people surveyed had no saved_mpesa. "
   ]
  },
  {
   "cell_type": "code",
   "execution_count": 18,
   "id": "6c62070f",
   "metadata": {},
   "outputs": [
    {
     "data": {
      "text/plain": [
       "<seaborn.axisgrid.FacetGrid at 0x7f193aa46e80>"
      ]
     },
     "execution_count": 18,
     "metadata": {},
     "output_type": "execute_result"
    },
    {
     "data": {
      "image/png": "[encoded data removed]",
      "text/plain": [
       "<Figure size 360x360 with 1 Axes>"
      ]
     },
     "metadata": {
      "needs_background": "light"
     },
     "output_type": "display_data"
    }
   ],
   "source": [
    "# edu distribution\n",
    "\n",
    "sns.catplot(x=\"edu\", kind=\"count\", data=data)"
   ]
  },
  {
   "cell_type": "markdown",
   "id": "ac708f1b",
   "metadata": {},
   "source": [
    "count -number of surved people\n",
    "\n",
    "Most surveyed people were with 10 years of education."
   ]
  },
  {
   "cell_type": "code",
   "execution_count": 19,
   "id": "f48acc67",
   "metadata": {},
   "outputs": [
    {
     "data": {
      "text/plain": [
       "Text(0.5, 0, 'durable_investment')"
      ]
     },
     "execution_count": 19,
     "metadata": {},
     "output_type": "execute_result"
    },
    {
     "data": {
      "image/png": "[encoded data removed]",
      "text/plain": [
       "<Figure size 1152x432 with 1 Axes>"
      ]
     },
     "metadata": {
      "needs_background": "light"
     },
     "output_type": "display_data"
    }
   ],
   "source": [
    "# durable_investment distribution\n",
    "\n",
    "plt.figure(figsize=(16, 6))\n",
    "data.durable_investment.hist() \n",
    "plt.xlabel('durable_investment')"
   ]
  },
  {
   "cell_type": "markdown",
   "id": "1cbd8d79",
   "metadata": {},
   "source": [
    "Those who had durable investments were few compared to those with undurable investments"
   ]
  },
  {
   "cell_type": "code",
   "execution_count": 20,
   "id": "72fa7b04",
   "metadata": {},
   "outputs": [
    {
     "data": {
      "text/plain": [
       "Text(0.5, 0, 'nondurable_investment')"
      ]
     },
     "execution_count": 20,
     "metadata": {},
     "output_type": "execute_result"
    },
    {
     "data": {
      "image/png": "[encoded data removed]",
      "text/plain": [
       "<Figure size 1152x432 with 1 Axes>"
      ]
     },
     "metadata": {
      "needs_background": "light"
     },
     "output_type": "display_data"
    }
   ],
   "source": [
    "# non_durable_investment distribution\n",
    "\n",
    "plt.figure(figsize=(16, 6))\n",
    "data.nondurable_investment.hist() \n",
    "plt.xlabel('nondurable_investment')"
   ]
  },
  {
   "cell_type": "markdown",
   "id": "e937e813",
   "metadata": {},
   "source": [
    "Those who had nondurable investments were more compared to those with durable investments"
   ]
  },
  {
   "cell_type": "code",
   "execution_count": 21,
   "id": "761367ea",
   "metadata": {},
   "outputs": [
    {
     "data": {
      "text/plain": [
       "Text(0.5, 0, 'age')"
      ]
     },
     "execution_count": 21,
     "metadata": {},
     "output_type": "execute_result"
    },
    {
     "data": {
      "image/png": "[encoded data removed]",
      "text/plain": [
       "<Figure size 1152x432 with 1 Axes>"
      ]
     },
     "metadata": {
      "needs_background": "light"
     },
     "output_type": "display_data"
    }
   ],
   "source": [
    "# age distribution\n",
    "\n",
    "plt.figure(figsize=(16, 6))\n",
    "data.age.hist() \n",
    "plt.xlabel('age')"
   ]
  },
  {
   "cell_type": "markdown",
   "id": "a0718e44",
   "metadata": {},
   "source": [
    "Most of the age-group surveyed is between 25 to 32 years."
   ]
  },
  {
   "cell_type": "markdown",
   "id": "783eee91",
   "metadata": {},
   "source": [
    "## Bivariate Analysis"
   ]
  },
  {
   "cell_type": "code",
   "execution_count": 22,
   "id": "79e020a8",
   "metadata": {},
   "outputs": [
    {
     "data": {
      "text/plain": [
       "<matplotlib.legend.Legend at 0x7f193a5b54c0>"
      ]
     },
     "execution_count": 22,
     "metadata": {},
     "output_type": "execute_result"
    },
    {
     "data": {
      "image/png": "[encoded data removed]",
      "text/plain": [
       "<Figure size 1152x432 with 1 Axes>"
      ]
     },
     "metadata": {
      "needs_background": "light"
     },
     "output_type": "display_data"
    }
   ],
   "source": [
    "# femaleres vs depressed\n",
    "\n",
    "plt.figure(figsize=(16, 6))\n",
    "sns.countplot('femaleres', hue= 'depressed', data=data)\n",
    "plt.xticks(\n",
    "    fontweight='light',\n",
    "    fontsize='x-large'  \n",
    ")\n",
    "plt.legend()"
   ]
  },
  {
   "cell_type": "markdown",
   "id": "e644b661",
   "metadata": {},
   "source": [
    "where:\n",
    "    0-maleres\n",
    "    \n",
    "    1-femaleres\n",
    "    \n",
    "Females were more depressed than males.\n",
    "\n",
    "Females who were not depressed were more than males."
   ]
  },
  {
   "cell_type": "code",
   "execution_count": 23,
   "id": "8e0da404",
   "metadata": {},
   "outputs": [
    {
     "data": {
      "text/plain": [
       "(array([0, 1]), [Text(0, 0, '0'), Text(1, 0, '1')])"
      ]
     },
     "execution_count": 23,
     "metadata": {},
     "output_type": "execute_result"
    },
    {
     "data": {
      "image/png": "[encoded data removed]",
      "text/plain": [
       "<Figure size 1152x432 with 1 Axes>"
      ]
     },
     "metadata": {
      "needs_background": "light"
     },
     "output_type": "display_data"
    }
   ],
   "source": [
    "# married vs depressed\n",
    "\n",
    "plt.figure(figsize=(16, 6))\n",
    "sns.countplot('married', hue= 'depressed', data=data)\n",
    "plt.xticks(\n",
    "    fontweight='light',\n",
    "    fontsize='x-large'  \n",
    ")"
   ]
  },
  {
   "cell_type": "markdown",
   "id": "ce074a7a",
   "metadata": {},
   "source": [
    "where: 0-not married\n",
    "\n",
    "1-married\n",
    "\n",
    "Married are more depressed than not married.\n",
    "\n",
    "Married who were not depressed were more than not married.\n"
   ]
  },
  {
   "cell_type": "code",
   "execution_count": 24,
   "id": "b91dd4b1",
   "metadata": {},
   "outputs": [
    {
     "data": {
      "text/plain": [
       "(array([ 0,  1,  2,  3,  4,  5,  6,  7,  8,  9, 10, 11]),\n",
       " [Text(0, 0, '1.0'),\n",
       "  Text(1, 0, '2.0'),\n",
       "  Text(2, 0, '3.0'),\n",
       "  Text(3, 0, '4.0'),\n",
       "  Text(4, 0, '5.0'),\n",
       "  Text(5, 0, '6.0'),\n",
       "  Text(6, 0, '7.0'),\n",
       "  Text(7, 0, '8.0'),\n",
       "  Text(8, 0, '9.0'),\n",
       "  Text(9, 0, '10.0'),\n",
       "  Text(10, 0, '11.0'),\n",
       "  Text(11, 0, '12.0')])"
      ]
     },
     "execution_count": 24,
     "metadata": {},
     "output_type": "execute_result"
    },
    {
     "data": {
      "image/png": "[encoded data removed]",
      "text/plain": [
       "<Figure size 1152x432 with 1 Axes>"
      ]
     },
     "metadata": {
      "needs_background": "light"
     },
     "output_type": "display_data"
    }
   ],
   "source": [
    "# hh_totalmembers vs depressed\n",
    "\n",
    "plt.figure(figsize=(16, 6))\n",
    "sns.countplot('hh_totalmembers', hue= 'depressed', data=data)\n",
    "plt.xticks(\n",
    "    fontweight='light',\n",
    "    fontsize='x-large'  \n",
    ")"
   ]
  },
  {
   "cell_type": "markdown",
   "id": "afee407e",
   "metadata": {},
   "source": [
    "The household size which had most people who were depressed was 5.\n"
   ]
  },
  {
   "cell_type": "code",
   "execution_count": 25,
   "id": "08c3f3c9",
   "metadata": {},
   "outputs": [
    {
     "data": {
      "text/plain": [
       "(array([ 0,  1,  2,  3,  4,  5,  6,  7,  8,  9, 10]),\n",
       " [Text(0, 0, '0'),\n",
       "  Text(1, 0, '1'),\n",
       "  Text(2, 0, '2'),\n",
       "  Text(3, 0, '3'),\n",
       "  Text(4, 0, '4'),\n",
       "  Text(5, 0, '5'),\n",
       "  Text(6, 0, '6'),\n",
       "  Text(7, 0, '7'),\n",
       "  Text(8, 0, '8'),\n",
       "  Text(9, 0, '9'),\n",
       "  Text(10, 0, '10')])"
      ]
     },
     "execution_count": 25,
     "metadata": {},
     "output_type": "execute_result"
    },
    {
     "data": {
      "image/png": "[encoded data removed]",
      "text/plain": [
       "<Figure size 1152x432 with 1 Axes>"
      ]
     },
     "metadata": {
      "needs_background": "light"
     },
     "output_type": "display_data"
    }
   ],
   "source": [
    "# children vs depressed\n",
    "\n",
    "plt.figure(figsize=(16, 6))\n",
    "sns.countplot('children', hue= 'depressed', data=data)\n",
    "plt.xticks(\n",
    "    fontweight='light',\n",
    "    fontsize='x-large'  \n",
    ")"
   ]
  },
  {
   "cell_type": "markdown",
   "id": "d895e82f",
   "metadata": {},
   "source": [
    "Number of children who were depressed is 3"
   ]
  },
  {
   "cell_type": "code",
   "execution_count": 26,
   "id": "93f451a6",
   "metadata": {},
   "outputs": [
    {
     "data": {
      "text/plain": [
       "(array([0, 1]), [Text(0, 0, '0'), Text(1, 0, '1')])"
      ]
     },
     "execution_count": 26,
     "metadata": {},
     "output_type": "execute_result"
    },
    {
     "data": {
      "image/png": "[encoded data removed]",
      "text/plain": [
       "<Figure size 1152x432 with 1 Axes>"
      ]
     },
     "metadata": {
      "needs_background": "light"
     },
     "output_type": "display_data"
    }
   ],
   "source": [
    "# saved_mpesa vs depressed\n",
    "\n",
    "plt.figure(figsize=(16, 6))\n",
    "sns.countplot('saved_mpesa', hue= 'depressed', data=data)\n",
    "plt.xticks(\n",
    "    fontweight='light',\n",
    "    fontsize='x-large'  \n",
    ")"
   ]
  },
  {
   "cell_type": "markdown",
   "id": "1fa34ba5",
   "metadata": {},
   "source": [
    "where: 0-no saved_mpesa\n",
    "\n",
    "1-saved_mpesa\n",
    "\n",
    "Most people who were depressed had no saved_mpesa."
   ]
  },
  {
   "cell_type": "code",
   "execution_count": 27,
   "id": "0bbd7cb8",
   "metadata": {},
   "outputs": [
    {
     "data": {
      "text/plain": [
       "(array([0, 1, 2, 3, 4, 5, 6]),\n",
       " [Text(0, 0, '0'),\n",
       "  Text(1, 0, '1'),\n",
       "  Text(2, 0, '2'),\n",
       "  Text(3, 0, '3'),\n",
       "  Text(4, 0, '4'),\n",
       "  Text(5, 0, '5'),\n",
       "  Text(6, 0, '6')])"
      ]
     },
     "execution_count": 27,
     "metadata": {},
     "output_type": "execute_result"
    },
    {
     "data": {
      "image/png": "[encoded data removed]",
      "text/plain": [
       "<Figure size 1152x432 with 1 Axes>"
      ]
     },
     "metadata": {
      "needs_background": "light"
     },
     "output_type": "display_data"
    }
   ],
   "source": [
    "# day_of _week vs depressed\n",
    "\n",
    "plt.figure(figsize=(16, 6))\n",
    "sns.countplot('day_of_week', hue= 'depressed', data=data)\n",
    "plt.xticks(\n",
    "    fontweight='light',\n",
    "    fontsize='x-large'  \n",
    ")"
   ]
  },
  {
   "cell_type": "markdown",
   "id": "cf55d6f7",
   "metadata": {},
   "source": [
    "The third day of the week surveyed more depressed people. "
   ]
  },
  {
   "cell_type": "code",
   "execution_count": 28,
   "id": "5c405f1f",
   "metadata": {},
   "outputs": [
    {
     "data": {
      "text/plain": [
       "(array([ 0,  1,  2,  3,  4,  5,  6,  7,  8,  9, 10, 11, 12, 13, 14, 15, 16,\n",
       "        17]),\n",
       " [Text(0, 0, '1'),\n",
       "  Text(1, 0, '2'),\n",
       "  Text(2, 0, '3'),\n",
       "  Text(3, 0, '4'),\n",
       "  Text(4, 0, '5'),\n",
       "  Text(5, 0, '6'),\n",
       "  Text(6, 0, '7'),\n",
       "  Text(7, 0, '8'),\n",
       "  Text(8, 0, '9'),\n",
       "  Text(9, 0, '10'),\n",
       "  Text(10, 0, '11'),\n",
       "  Text(11, 0, '12'),\n",
       "  Text(12, 0, '13'),\n",
       "  Text(13, 0, '14'),\n",
       "  Text(14, 0, '16'),\n",
       "  Text(15, 0, '17'),\n",
       "  Text(16, 0, '18'),\n",
       "  Text(17, 0, '19')])"
      ]
     },
     "execution_count": 28,
     "metadata": {},
     "output_type": "execute_result"
    },
    {
     "data": {
      "image/png": "[encoded data removed]",
      "text/plain": [
       "<Figure size 1152x432 with 1 Axes>"
      ]
     },
     "metadata": {
      "needs_background": "light"
     },
     "output_type": "display_data"
    }
   ],
   "source": [
    "# edu vs depressed\n",
    "\n",
    "plt.figure(figsize=(16, 6))\n",
    "sns.countplot('edu', hue= 'depressed', data=data)\n",
    "plt.xticks(\n",
    "    fontweight='light',\n",
    "    fontsize='x-large'  \n",
    ")"
   ]
  },
  {
   "cell_type": "markdown",
   "id": "0040e31e",
   "metadata": {},
   "source": [
    "## Results"
   ]
  },
  {
   "cell_type": "markdown",
   "id": "da5c7703",
   "metadata": {},
   "source": [
    "1.Married people are likely to suffer from depression-True\n",
    "\n",
    "2.Female respondents are likely to suffer from depression-True\n",
    "\n",
    "3.Children are unlikely to suffer from depression-False\n",
    "\n",
    "4.Most people who do not have savings are likely to be depressed-True\n",
    "\n",
    "5.Most of the age group interviewed were youth-True\n",
    "\n",
    "6.Females were more depressed than males-True\n",
    "\n",
    "7.Females who were not depressed were more than males-True"
   ]
  },
  {
   "cell_type": "markdown",
   "id": "29de5ea5",
   "metadata": {},
   "source": [
    "# Feature Engineering"
   ]
  },
  {
   "cell_type": "code",
   "execution_count": 29,
   "id": "86717d4c",
   "metadata": {},
   "outputs": [
    {
     "data": {
      "text/html": [
       "<div>\n",
       "<style scoped>\n",
       "    .dataframe tbody tr th:only-of-type {\n",
       "        vertical-align: middle;\n",
       "    }\n",
       "\n",
       "    .dataframe tbody tr th {\n",
       "        vertical-align: top;\n",
       "    }\n",
       "\n",
       "    .dataframe thead th {\n",
       "        text-align: right;\n",
       "    }\n",
       "</style>\n",
       "<table border=\"1\" class=\"dataframe\">\n",
       "  <thead>\n",
       "    <tr style=\"text-align: right;\">\n",
       "      <th></th>\n",
       "      <th>surveyid</th>\n",
       "      <th>village</th>\n",
       "      <th>survey_date</th>\n",
       "      <th>femaleres</th>\n",
       "      <th>age</th>\n",
       "      <th>married</th>\n",
       "      <th>children</th>\n",
       "      <th>hhsize</th>\n",
       "      <th>edu</th>\n",
       "      <th>hh_children</th>\n",
       "      <th>...</th>\n",
       "      <th>given_mpesa</th>\n",
       "      <th>amount_given_mpesa</th>\n",
       "      <th>received_mpesa</th>\n",
       "      <th>amount_received_mpesa</th>\n",
       "      <th>net_mpesa</th>\n",
       "      <th>saved_mpesa</th>\n",
       "      <th>amount_saved_mpesa</th>\n",
       "      <th>early_survey</th>\n",
       "      <th>depressed</th>\n",
       "      <th>day_of_week</th>\n",
       "    </tr>\n",
       "  </thead>\n",
       "  <tbody>\n",
       "    <tr>\n",
       "      <th>0</th>\n",
       "      <td>926</td>\n",
       "      <td>91</td>\n",
       "      <td>23-Nov-61</td>\n",
       "      <td>1</td>\n",
       "      <td>28.0</td>\n",
       "      <td>1</td>\n",
       "      <td>4</td>\n",
       "      <td>6</td>\n",
       "      <td>10</td>\n",
       "      <td>0</td>\n",
       "      <td>...</td>\n",
       "      <td>0</td>\n",
       "      <td>0.0</td>\n",
       "      <td>0</td>\n",
       "      <td>0.000000</td>\n",
       "      <td>0.000000</td>\n",
       "      <td>1</td>\n",
       "      <td>0.000000</td>\n",
       "      <td>0</td>\n",
       "      <td>0</td>\n",
       "      <td>5</td>\n",
       "    </tr>\n",
       "    <tr>\n",
       "      <th>1</th>\n",
       "      <td>747</td>\n",
       "      <td>57</td>\n",
       "      <td>24-Oct-61</td>\n",
       "      <td>1</td>\n",
       "      <td>23.0</td>\n",
       "      <td>1</td>\n",
       "      <td>3</td>\n",
       "      <td>5</td>\n",
       "      <td>8</td>\n",
       "      <td>0</td>\n",
       "      <td>...</td>\n",
       "      <td>0</td>\n",
       "      <td>0.0</td>\n",
       "      <td>1</td>\n",
       "      <td>4.804611</td>\n",
       "      <td>4.804611</td>\n",
       "      <td>0</td>\n",
       "      <td>0.000000</td>\n",
       "      <td>0</td>\n",
       "      <td>1</td>\n",
       "      <td>3</td>\n",
       "    </tr>\n",
       "    <tr>\n",
       "      <th>2</th>\n",
       "      <td>1190</td>\n",
       "      <td>115</td>\n",
       "      <td>05-Oct-61</td>\n",
       "      <td>1</td>\n",
       "      <td>22.0</td>\n",
       "      <td>1</td>\n",
       "      <td>3</td>\n",
       "      <td>5</td>\n",
       "      <td>9</td>\n",
       "      <td>0</td>\n",
       "      <td>...</td>\n",
       "      <td>0</td>\n",
       "      <td>0.0</td>\n",
       "      <td>0</td>\n",
       "      <td>8.007685</td>\n",
       "      <td>8.007685</td>\n",
       "      <td>1</td>\n",
       "      <td>0.000000</td>\n",
       "      <td>0</td>\n",
       "      <td>0</td>\n",
       "      <td>5</td>\n",
       "    </tr>\n",
       "    <tr>\n",
       "      <th>3</th>\n",
       "      <td>1065</td>\n",
       "      <td>97</td>\n",
       "      <td>23-Sep-61</td>\n",
       "      <td>1</td>\n",
       "      <td>27.0</td>\n",
       "      <td>1</td>\n",
       "      <td>2</td>\n",
       "      <td>4</td>\n",
       "      <td>10</td>\n",
       "      <td>2</td>\n",
       "      <td>...</td>\n",
       "      <td>0</td>\n",
       "      <td>0.0</td>\n",
       "      <td>0</td>\n",
       "      <td>0.000000</td>\n",
       "      <td>0.000000</td>\n",
       "      <td>1</td>\n",
       "      <td>1.249199</td>\n",
       "      <td>0</td>\n",
       "      <td>0</td>\n",
       "      <td>0</td>\n",
       "    </tr>\n",
       "    <tr>\n",
       "      <th>4</th>\n",
       "      <td>806</td>\n",
       "      <td>42</td>\n",
       "      <td>12-Sep-61</td>\n",
       "      <td>0</td>\n",
       "      <td>59.0</td>\n",
       "      <td>0</td>\n",
       "      <td>4</td>\n",
       "      <td>6</td>\n",
       "      <td>10</td>\n",
       "      <td>4</td>\n",
       "      <td>...</td>\n",
       "      <td>0</td>\n",
       "      <td>0.0</td>\n",
       "      <td>0</td>\n",
       "      <td>0.000000</td>\n",
       "      <td>0.000000</td>\n",
       "      <td>0</td>\n",
       "      <td>0.000000</td>\n",
       "      <td>0</td>\n",
       "      <td>0</td>\n",
       "      <td>3</td>\n",
       "    </tr>\n",
       "    <tr>\n",
       "      <th>...</th>\n",
       "      <td>...</td>\n",
       "      <td>...</td>\n",
       "      <td>...</td>\n",
       "      <td>...</td>\n",
       "      <td>...</td>\n",
       "      <td>...</td>\n",
       "      <td>...</td>\n",
       "      <td>...</td>\n",
       "      <td>...</td>\n",
       "      <td>...</td>\n",
       "      <td>...</td>\n",
       "      <td>...</td>\n",
       "      <td>...</td>\n",
       "      <td>...</td>\n",
       "      <td>...</td>\n",
       "      <td>...</td>\n",
       "      <td>...</td>\n",
       "      <td>...</td>\n",
       "      <td>...</td>\n",
       "      <td>...</td>\n",
       "      <td>...</td>\n",
       "    </tr>\n",
       "    <tr>\n",
       "      <th>1138</th>\n",
       "      <td>927</td>\n",
       "      <td>152</td>\n",
       "      <td>27-Dec-61</td>\n",
       "      <td>1</td>\n",
       "      <td>36.0</td>\n",
       "      <td>0</td>\n",
       "      <td>4</td>\n",
       "      <td>5</td>\n",
       "      <td>9</td>\n",
       "      <td>0</td>\n",
       "      <td>...</td>\n",
       "      <td>0</td>\n",
       "      <td>0.0</td>\n",
       "      <td>0</td>\n",
       "      <td>0.000000</td>\n",
       "      <td>0.000000</td>\n",
       "      <td>0</td>\n",
       "      <td>0.000000</td>\n",
       "      <td>0</td>\n",
       "      <td>1</td>\n",
       "      <td>4</td>\n",
       "    </tr>\n",
       "    <tr>\n",
       "      <th>1139</th>\n",
       "      <td>1039</td>\n",
       "      <td>104</td>\n",
       "      <td>13-Sep-61</td>\n",
       "      <td>1</td>\n",
       "      <td>23.0</td>\n",
       "      <td>1</td>\n",
       "      <td>0</td>\n",
       "      <td>2</td>\n",
       "      <td>10</td>\n",
       "      <td>0</td>\n",
       "      <td>...</td>\n",
       "      <td>0</td>\n",
       "      <td>0.0</td>\n",
       "      <td>0</td>\n",
       "      <td>0.000000</td>\n",
       "      <td>0.000000</td>\n",
       "      <td>1</td>\n",
       "      <td>0.000000</td>\n",
       "      <td>0</td>\n",
       "      <td>0</td>\n",
       "      <td>4</td>\n",
       "    </tr>\n",
       "    <tr>\n",
       "      <th>1140</th>\n",
       "      <td>428</td>\n",
       "      <td>54</td>\n",
       "      <td>23-Nov-61</td>\n",
       "      <td>1</td>\n",
       "      <td>28.0</td>\n",
       "      <td>1</td>\n",
       "      <td>5</td>\n",
       "      <td>7</td>\n",
       "      <td>10</td>\n",
       "      <td>5</td>\n",
       "      <td>...</td>\n",
       "      <td>0</td>\n",
       "      <td>0.0</td>\n",
       "      <td>0</td>\n",
       "      <td>0.000000</td>\n",
       "      <td>0.000000</td>\n",
       "      <td>0</td>\n",
       "      <td>0.000000</td>\n",
       "      <td>0</td>\n",
       "      <td>0</td>\n",
       "      <td>5</td>\n",
       "    </tr>\n",
       "    <tr>\n",
       "      <th>1141</th>\n",
       "      <td>23</td>\n",
       "      <td>3</td>\n",
       "      <td>05-Oct-61</td>\n",
       "      <td>1</td>\n",
       "      <td>33.0</td>\n",
       "      <td>0</td>\n",
       "      <td>4</td>\n",
       "      <td>5</td>\n",
       "      <td>9</td>\n",
       "      <td>0</td>\n",
       "      <td>...</td>\n",
       "      <td>0</td>\n",
       "      <td>0.0</td>\n",
       "      <td>0</td>\n",
       "      <td>0.000000</td>\n",
       "      <td>0.000000</td>\n",
       "      <td>0</td>\n",
       "      <td>0.000000</td>\n",
       "      <td>0</td>\n",
       "      <td>0</td>\n",
       "      <td>5</td>\n",
       "    </tr>\n",
       "    <tr>\n",
       "      <th>1142</th>\n",
       "      <td>116</td>\n",
       "      <td>18</td>\n",
       "      <td>24-Sep-61</td>\n",
       "      <td>1</td>\n",
       "      <td>39.0</td>\n",
       "      <td>1</td>\n",
       "      <td>0</td>\n",
       "      <td>4</td>\n",
       "      <td>12</td>\n",
       "      <td>0</td>\n",
       "      <td>...</td>\n",
       "      <td>0</td>\n",
       "      <td>0.0</td>\n",
       "      <td>0</td>\n",
       "      <td>0.000000</td>\n",
       "      <td>0.000000</td>\n",
       "      <td>0</td>\n",
       "      <td>0.000000</td>\n",
       "      <td>0</td>\n",
       "      <td>1</td>\n",
       "      <td>1</td>\n",
       "    </tr>\n",
       "  </tbody>\n",
       "</table>\n",
       "<p>1143 rows × 75 columns</p>\n",
       "</div>"
      ],
      "text/plain": [
       "      surveyid  village survey_date  femaleres   age  married  children  \\\n",
       "0          926       91   23-Nov-61          1  28.0        1         4   \n",
       "1          747       57   24-Oct-61          1  23.0        1         3   \n",
       "2         1190      115   05-Oct-61          1  22.0        1         3   \n",
       "3         1065       97   23-Sep-61          1  27.0        1         2   \n",
       "4          806       42   12-Sep-61          0  59.0        0         4   \n",
       "...        ...      ...         ...        ...   ...      ...       ...   \n",
       "1138       927      152   27-Dec-61          1  36.0        0         4   \n",
       "1139      1039      104   13-Sep-61          1  23.0        1         0   \n",
       "1140       428       54   23-Nov-61          1  28.0        1         5   \n",
       "1141        23        3   05-Oct-61          1  33.0        0         4   \n",
       "1142       116       18   24-Sep-61          1  39.0        1         0   \n",
       "\n",
       "      hhsize  edu  hh_children  ...  given_mpesa  amount_given_mpesa  \\\n",
       "0          6   10            0  ...            0                 0.0   \n",
       "1          5    8            0  ...            0                 0.0   \n",
       "2          5    9            0  ...            0                 0.0   \n",
       "3          4   10            2  ...            0                 0.0   \n",
       "4          6   10            4  ...            0                 0.0   \n",
       "...      ...  ...          ...  ...          ...                 ...   \n",
       "1138       5    9            0  ...            0                 0.0   \n",
       "1139       2   10            0  ...            0                 0.0   \n",
       "1140       7   10            5  ...            0                 0.0   \n",
       "1141       5    9            0  ...            0                 0.0   \n",
       "1142       4   12            0  ...            0                 0.0   \n",
       "\n",
       "      received_mpesa  amount_received_mpesa  net_mpesa  saved_mpesa  \\\n",
       "0                  0               0.000000   0.000000            1   \n",
       "1                  1               4.804611   4.804611            0   \n",
       "2                  0               8.007685   8.007685            1   \n",
       "3                  0               0.000000   0.000000            1   \n",
       "4                  0               0.000000   0.000000            0   \n",
       "...              ...                    ...        ...          ...   \n",
       "1138               0               0.000000   0.000000            0   \n",
       "1139               0               0.000000   0.000000            1   \n",
       "1140               0               0.000000   0.000000            0   \n",
       "1141               0               0.000000   0.000000            0   \n",
       "1142               0               0.000000   0.000000            0   \n",
       "\n",
       "      amount_saved_mpesa  early_survey  depressed  day_of_week  \n",
       "0               0.000000             0          0            5  \n",
       "1               0.000000             0          1            3  \n",
       "2               0.000000             0          0            5  \n",
       "3               1.249199             0          0            0  \n",
       "4               0.000000             0          0            3  \n",
       "...                  ...           ...        ...          ...  \n",
       "1138            0.000000             0          1            4  \n",
       "1139            0.000000             0          0            4  \n",
       "1140            0.000000             0          0            5  \n",
       "1141            0.000000             0          0            5  \n",
       "1142            0.000000             0          1            1  \n",
       "\n",
       "[1143 rows x 75 columns]"
      ]
     },
     "execution_count": 29,
     "metadata": {},
     "output_type": "execute_result"
    }
   ],
   "source": [
    "data"
   ]
  },
  {
   "cell_type": "markdown",
   "id": "877dbfdd",
   "metadata": {},
   "source": [
    "## Handling missing values"
   ]
  },
  {
   "cell_type": "code",
   "execution_count": 30,
   "id": "21a1feac",
   "metadata": {},
   "outputs": [
    {
     "data": {
      "text/html": [
       "<div>\n",
       "<style scoped>\n",
       "    .dataframe tbody tr th:only-of-type {\n",
       "        vertical-align: middle;\n",
       "    }\n",
       "\n",
       "    .dataframe tbody tr th {\n",
       "        vertical-align: top;\n",
       "    }\n",
       "\n",
       "    .dataframe thead th {\n",
       "        text-align: right;\n",
       "    }\n",
       "</style>\n",
       "<table border=\"1\" class=\"dataframe\">\n",
       "  <thead>\n",
       "    <tr style=\"text-align: right;\">\n",
       "      <th></th>\n",
       "      <th>surveyid</th>\n",
       "      <th>village</th>\n",
       "      <th>survey_date</th>\n",
       "      <th>femaleres</th>\n",
       "      <th>age</th>\n",
       "      <th>married</th>\n",
       "      <th>children</th>\n",
       "      <th>hhsize</th>\n",
       "      <th>edu</th>\n",
       "      <th>hh_children</th>\n",
       "      <th>...</th>\n",
       "      <th>given_mpesa</th>\n",
       "      <th>amount_given_mpesa</th>\n",
       "      <th>received_mpesa</th>\n",
       "      <th>amount_received_mpesa</th>\n",
       "      <th>net_mpesa</th>\n",
       "      <th>saved_mpesa</th>\n",
       "      <th>amount_saved_mpesa</th>\n",
       "      <th>early_survey</th>\n",
       "      <th>depressed</th>\n",
       "      <th>day_of_week</th>\n",
       "    </tr>\n",
       "  </thead>\n",
       "  <tbody>\n",
       "    <tr>\n",
       "      <th>0</th>\n",
       "      <td>926</td>\n",
       "      <td>91</td>\n",
       "      <td>23-Nov-61</td>\n",
       "      <td>1</td>\n",
       "      <td>28.0</td>\n",
       "      <td>1</td>\n",
       "      <td>4</td>\n",
       "      <td>6</td>\n",
       "      <td>10</td>\n",
       "      <td>0</td>\n",
       "      <td>...</td>\n",
       "      <td>0</td>\n",
       "      <td>0.0</td>\n",
       "      <td>0</td>\n",
       "      <td>0.000000</td>\n",
       "      <td>0.000000</td>\n",
       "      <td>1</td>\n",
       "      <td>0.000000</td>\n",
       "      <td>0</td>\n",
       "      <td>0</td>\n",
       "      <td>5</td>\n",
       "    </tr>\n",
       "    <tr>\n",
       "      <th>1</th>\n",
       "      <td>747</td>\n",
       "      <td>57</td>\n",
       "      <td>24-Oct-61</td>\n",
       "      <td>1</td>\n",
       "      <td>23.0</td>\n",
       "      <td>1</td>\n",
       "      <td>3</td>\n",
       "      <td>5</td>\n",
       "      <td>8</td>\n",
       "      <td>0</td>\n",
       "      <td>...</td>\n",
       "      <td>0</td>\n",
       "      <td>0.0</td>\n",
       "      <td>1</td>\n",
       "      <td>4.804611</td>\n",
       "      <td>4.804611</td>\n",
       "      <td>0</td>\n",
       "      <td>0.000000</td>\n",
       "      <td>0</td>\n",
       "      <td>1</td>\n",
       "      <td>3</td>\n",
       "    </tr>\n",
       "    <tr>\n",
       "      <th>2</th>\n",
       "      <td>1190</td>\n",
       "      <td>115</td>\n",
       "      <td>05-Oct-61</td>\n",
       "      <td>1</td>\n",
       "      <td>22.0</td>\n",
       "      <td>1</td>\n",
       "      <td>3</td>\n",
       "      <td>5</td>\n",
       "      <td>9</td>\n",
       "      <td>0</td>\n",
       "      <td>...</td>\n",
       "      <td>0</td>\n",
       "      <td>0.0</td>\n",
       "      <td>0</td>\n",
       "      <td>8.007685</td>\n",
       "      <td>8.007685</td>\n",
       "      <td>1</td>\n",
       "      <td>0.000000</td>\n",
       "      <td>0</td>\n",
       "      <td>0</td>\n",
       "      <td>5</td>\n",
       "    </tr>\n",
       "    <tr>\n",
       "      <th>3</th>\n",
       "      <td>1065</td>\n",
       "      <td>97</td>\n",
       "      <td>23-Sep-61</td>\n",
       "      <td>1</td>\n",
       "      <td>27.0</td>\n",
       "      <td>1</td>\n",
       "      <td>2</td>\n",
       "      <td>4</td>\n",
       "      <td>10</td>\n",
       "      <td>2</td>\n",
       "      <td>...</td>\n",
       "      <td>0</td>\n",
       "      <td>0.0</td>\n",
       "      <td>0</td>\n",
       "      <td>0.000000</td>\n",
       "      <td>0.000000</td>\n",
       "      <td>1</td>\n",
       "      <td>1.249199</td>\n",
       "      <td>0</td>\n",
       "      <td>0</td>\n",
       "      <td>0</td>\n",
       "    </tr>\n",
       "    <tr>\n",
       "      <th>4</th>\n",
       "      <td>806</td>\n",
       "      <td>42</td>\n",
       "      <td>12-Sep-61</td>\n",
       "      <td>0</td>\n",
       "      <td>59.0</td>\n",
       "      <td>0</td>\n",
       "      <td>4</td>\n",
       "      <td>6</td>\n",
       "      <td>10</td>\n",
       "      <td>4</td>\n",
       "      <td>...</td>\n",
       "      <td>0</td>\n",
       "      <td>0.0</td>\n",
       "      <td>0</td>\n",
       "      <td>0.000000</td>\n",
       "      <td>0.000000</td>\n",
       "      <td>0</td>\n",
       "      <td>0.000000</td>\n",
       "      <td>0</td>\n",
       "      <td>0</td>\n",
       "      <td>3</td>\n",
       "    </tr>\n",
       "    <tr>\n",
       "      <th>...</th>\n",
       "      <td>...</td>\n",
       "      <td>...</td>\n",
       "      <td>...</td>\n",
       "      <td>...</td>\n",
       "      <td>...</td>\n",
       "      <td>...</td>\n",
       "      <td>...</td>\n",
       "      <td>...</td>\n",
       "      <td>...</td>\n",
       "      <td>...</td>\n",
       "      <td>...</td>\n",
       "      <td>...</td>\n",
       "      <td>...</td>\n",
       "      <td>...</td>\n",
       "      <td>...</td>\n",
       "      <td>...</td>\n",
       "      <td>...</td>\n",
       "      <td>...</td>\n",
       "      <td>...</td>\n",
       "      <td>...</td>\n",
       "      <td>...</td>\n",
       "    </tr>\n",
       "    <tr>\n",
       "      <th>1138</th>\n",
       "      <td>927</td>\n",
       "      <td>152</td>\n",
       "      <td>27-Dec-61</td>\n",
       "      <td>1</td>\n",
       "      <td>36.0</td>\n",
       "      <td>0</td>\n",
       "      <td>4</td>\n",
       "      <td>5</td>\n",
       "      <td>9</td>\n",
       "      <td>0</td>\n",
       "      <td>...</td>\n",
       "      <td>0</td>\n",
       "      <td>0.0</td>\n",
       "      <td>0</td>\n",
       "      <td>0.000000</td>\n",
       "      <td>0.000000</td>\n",
       "      <td>0</td>\n",
       "      <td>0.000000</td>\n",
       "      <td>0</td>\n",
       "      <td>1</td>\n",
       "      <td>4</td>\n",
       "    </tr>\n",
       "    <tr>\n",
       "      <th>1139</th>\n",
       "      <td>1039</td>\n",
       "      <td>104</td>\n",
       "      <td>13-Sep-61</td>\n",
       "      <td>1</td>\n",
       "      <td>23.0</td>\n",
       "      <td>1</td>\n",
       "      <td>0</td>\n",
       "      <td>2</td>\n",
       "      <td>10</td>\n",
       "      <td>0</td>\n",
       "      <td>...</td>\n",
       "      <td>0</td>\n",
       "      <td>0.0</td>\n",
       "      <td>0</td>\n",
       "      <td>0.000000</td>\n",
       "      <td>0.000000</td>\n",
       "      <td>1</td>\n",
       "      <td>0.000000</td>\n",
       "      <td>0</td>\n",
       "      <td>0</td>\n",
       "      <td>4</td>\n",
       "    </tr>\n",
       "    <tr>\n",
       "      <th>1140</th>\n",
       "      <td>428</td>\n",
       "      <td>54</td>\n",
       "      <td>23-Nov-61</td>\n",
       "      <td>1</td>\n",
       "      <td>28.0</td>\n",
       "      <td>1</td>\n",
       "      <td>5</td>\n",
       "      <td>7</td>\n",
       "      <td>10</td>\n",
       "      <td>5</td>\n",
       "      <td>...</td>\n",
       "      <td>0</td>\n",
       "      <td>0.0</td>\n",
       "      <td>0</td>\n",
       "      <td>0.000000</td>\n",
       "      <td>0.000000</td>\n",
       "      <td>0</td>\n",
       "      <td>0.000000</td>\n",
       "      <td>0</td>\n",
       "      <td>0</td>\n",
       "      <td>5</td>\n",
       "    </tr>\n",
       "    <tr>\n",
       "      <th>1141</th>\n",
       "      <td>23</td>\n",
       "      <td>3</td>\n",
       "      <td>05-Oct-61</td>\n",
       "      <td>1</td>\n",
       "      <td>33.0</td>\n",
       "      <td>0</td>\n",
       "      <td>4</td>\n",
       "      <td>5</td>\n",
       "      <td>9</td>\n",
       "      <td>0</td>\n",
       "      <td>...</td>\n",
       "      <td>0</td>\n",
       "      <td>0.0</td>\n",
       "      <td>0</td>\n",
       "      <td>0.000000</td>\n",
       "      <td>0.000000</td>\n",
       "      <td>0</td>\n",
       "      <td>0.000000</td>\n",
       "      <td>0</td>\n",
       "      <td>0</td>\n",
       "      <td>5</td>\n",
       "    </tr>\n",
       "    <tr>\n",
       "      <th>1142</th>\n",
       "      <td>116</td>\n",
       "      <td>18</td>\n",
       "      <td>24-Sep-61</td>\n",
       "      <td>1</td>\n",
       "      <td>39.0</td>\n",
       "      <td>1</td>\n",
       "      <td>0</td>\n",
       "      <td>4</td>\n",
       "      <td>12</td>\n",
       "      <td>0</td>\n",
       "      <td>...</td>\n",
       "      <td>0</td>\n",
       "      <td>0.0</td>\n",
       "      <td>0</td>\n",
       "      <td>0.000000</td>\n",
       "      <td>0.000000</td>\n",
       "      <td>0</td>\n",
       "      <td>0.000000</td>\n",
       "      <td>0</td>\n",
       "      <td>1</td>\n",
       "      <td>1</td>\n",
       "    </tr>\n",
       "  </tbody>\n",
       "</table>\n",
       "<p>1143 rows × 73 columns</p>\n",
       "</div>"
      ],
      "text/plain": [
       "      surveyid  village survey_date  femaleres   age  married  children  \\\n",
       "0          926       91   23-Nov-61          1  28.0        1         4   \n",
       "1          747       57   24-Oct-61          1  23.0        1         3   \n",
       "2         1190      115   05-Oct-61          1  22.0        1         3   \n",
       "3         1065       97   23-Sep-61          1  27.0        1         2   \n",
       "4          806       42   12-Sep-61          0  59.0        0         4   \n",
       "...        ...      ...         ...        ...   ...      ...       ...   \n",
       "1138       927      152   27-Dec-61          1  36.0        0         4   \n",
       "1139      1039      104   13-Sep-61          1  23.0        1         0   \n",
       "1140       428       54   23-Nov-61          1  28.0        1         5   \n",
       "1141        23        3   05-Oct-61          1  33.0        0         4   \n",
       "1142       116       18   24-Sep-61          1  39.0        1         0   \n",
       "\n",
       "      hhsize  edu  hh_children  ...  given_mpesa  amount_given_mpesa  \\\n",
       "0          6   10            0  ...            0                 0.0   \n",
       "1          5    8            0  ...            0                 0.0   \n",
       "2          5    9            0  ...            0                 0.0   \n",
       "3          4   10            2  ...            0                 0.0   \n",
       "4          6   10            4  ...            0                 0.0   \n",
       "...      ...  ...          ...  ...          ...                 ...   \n",
       "1138       5    9            0  ...            0                 0.0   \n",
       "1139       2   10            0  ...            0                 0.0   \n",
       "1140       7   10            5  ...            0                 0.0   \n",
       "1141       5    9            0  ...            0                 0.0   \n",
       "1142       4   12            0  ...            0                 0.0   \n",
       "\n",
       "      received_mpesa  amount_received_mpesa  net_mpesa  saved_mpesa  \\\n",
       "0                  0               0.000000   0.000000            1   \n",
       "1                  1               4.804611   4.804611            0   \n",
       "2                  0               8.007685   8.007685            1   \n",
       "3                  0               0.000000   0.000000            1   \n",
       "4                  0               0.000000   0.000000            0   \n",
       "...              ...                    ...        ...          ...   \n",
       "1138               0               0.000000   0.000000            0   \n",
       "1139               0               0.000000   0.000000            1   \n",
       "1140               0               0.000000   0.000000            0   \n",
       "1141               0               0.000000   0.000000            0   \n",
       "1142               0               0.000000   0.000000            0   \n",
       "\n",
       "      amount_saved_mpesa  early_survey  depressed  day_of_week  \n",
       "0               0.000000             0          0            5  \n",
       "1               0.000000             0          1            3  \n",
       "2               0.000000             0          0            5  \n",
       "3               1.249199             0          0            0  \n",
       "4               0.000000             0          0            3  \n",
       "...                  ...           ...        ...          ...  \n",
       "1138            0.000000             0          1            4  \n",
       "1139            0.000000             0          0            4  \n",
       "1140            0.000000             0          0            5  \n",
       "1141            0.000000             0          0            5  \n",
       "1142            0.000000             0          1            1  \n",
       "\n",
       "[1143 rows x 73 columns]"
      ]
     },
     "execution_count": 30,
     "metadata": {},
     "output_type": "execute_result"
    }
   ],
   "source": [
    "threshold = 0.7\n",
    "\n",
    "data1  = data[data.columns[data.isnull().mean()<threshold]]\n",
    "\n",
    "data1"
   ]
  },
  {
   "cell_type": "code",
   "execution_count": 31,
   "id": "e20caede",
   "metadata": {},
   "outputs": [
    {
     "data": {
      "text/plain": [
       "['hh_totalmembers',\n",
       " 'cons_alcohol',\n",
       " 'cons_tobacco',\n",
       " 'cons_med_children',\n",
       " 'fs_chskipm_often',\n",
       " 'fs_chwholed_often',\n",
       " 'fs_meat',\n",
       " 'fs_enoughtom',\n",
       " 'fs_sleephun',\n",
       " 'med_expenses_hh_ep',\n",
       " 'med_expenses_sp_ep',\n",
       " 'med_expenses_child_ep',\n",
       " 'med_portion_sickinjured',\n",
       " 'med_port_sick_child',\n",
       " 'med_afford_port',\n",
       " 'med_sickdays_hhave',\n",
       " 'med_healthconsult',\n",
       " 'med_u5_deaths',\n",
       " 'ed_expenses',\n",
       " 'ed_expenses_perkid',\n",
       " 'ed_schoolattend',\n",
       " 'ed_sch_missedpc',\n",
       " 'ed_work_act_pc']"
      ]
     },
     "execution_count": 31,
     "metadata": {},
     "output_type": "execute_result"
    }
   ],
   "source": [
    "list(data.loc[:,data.isnull().any()].columns)"
   ]
  },
  {
   "cell_type": "code",
   "execution_count": 32,
   "id": "69348d2d",
   "metadata": {},
   "outputs": [],
   "source": [
    "data = data.fillna(data.median())"
   ]
  },
  {
   "cell_type": "code",
   "execution_count": 33,
   "id": "4b6648a0",
   "metadata": {},
   "outputs": [
    {
     "data": {
      "text/plain": [
       "(1143, 74)"
      ]
     },
     "execution_count": 33,
     "metadata": {},
     "output_type": "execute_result"
    }
   ],
   "source": [
    "#remove id feature \n",
    "\n",
    "data = data.drop('surveyid', axis=1)\n",
    "\n",
    "data.shape "
   ]
  },
  {
   "cell_type": "code",
   "execution_count": 34,
   "id": "2bebe95c",
   "metadata": {},
   "outputs": [
    {
     "name": "stdout",
     "output_type": "stream",
     "text": [
      "survey_date\n"
     ]
    },
    {
     "data": {
      "text/plain": [
       "(1143, 253)"
      ]
     },
     "execution_count": 34,
     "metadata": {},
     "output_type": "execute_result"
    }
   ],
   "source": [
    "# convert categorical features to numerical features\n",
    "categorical_features=[]\n",
    "for column in data.columns:\n",
    "    if data[column].dtype == 'object':\n",
    "        if data[column].nunique() > 2:\n",
    "            categorical_features.append(column)\n",
    "            print(column)\n",
    "\n",
    "# One Hot Encoding conversion\n",
    "data = pd.get_dummies(data, prefix_sep='_', columns = categorical_features)\n",
    "\n",
    "\n",
    "#show the shape of the data\n",
    "data.shape"
   ]
  },
  {
   "cell_type": "code",
   "execution_count": 35,
   "id": "c664c120",
   "metadata": {},
   "outputs": [
    {
     "data": {
      "text/html": [
       "<div>\n",
       "<style scoped>\n",
       "    .dataframe tbody tr th:only-of-type {\n",
       "        vertical-align: middle;\n",
       "    }\n",
       "\n",
       "    .dataframe tbody tr th {\n",
       "        vertical-align: top;\n",
       "    }\n",
       "\n",
       "    .dataframe thead th {\n",
       "        text-align: right;\n",
       "    }\n",
       "</style>\n",
       "<table border=\"1\" class=\"dataframe\">\n",
       "  <thead>\n",
       "    <tr style=\"text-align: right;\">\n",
       "      <th></th>\n",
       "      <th>village</th>\n",
       "      <th>femaleres</th>\n",
       "      <th>age</th>\n",
       "      <th>married</th>\n",
       "      <th>children</th>\n",
       "      <th>hhsize</th>\n",
       "      <th>edu</th>\n",
       "      <th>hh_children</th>\n",
       "      <th>hh_totalmembers</th>\n",
       "      <th>cons_nondurable</th>\n",
       "      <th>...</th>\n",
       "      <th>survey_date_30-May-60</th>\n",
       "      <th>survey_date_30-Nov-61</th>\n",
       "      <th>survey_date_30-Oct-60</th>\n",
       "      <th>survey_date_30-Oct-61</th>\n",
       "      <th>survey_date_30-Sep-60</th>\n",
       "      <th>survey_date_30-Sep-61</th>\n",
       "      <th>survey_date_31-Aug-61</th>\n",
       "      <th>survey_date_31-Dec-61</th>\n",
       "      <th>survey_date_31-May-60</th>\n",
       "      <th>survey_date_31-Oct-61</th>\n",
       "    </tr>\n",
       "  </thead>\n",
       "  <tbody>\n",
       "    <tr>\n",
       "      <th>0</th>\n",
       "      <td>91</td>\n",
       "      <td>1</td>\n",
       "      <td>28.0</td>\n",
       "      <td>1</td>\n",
       "      <td>4</td>\n",
       "      <td>6</td>\n",
       "      <td>10</td>\n",
       "      <td>0</td>\n",
       "      <td>5.0</td>\n",
       "      <td>0.000000</td>\n",
       "      <td>...</td>\n",
       "      <td>0</td>\n",
       "      <td>0</td>\n",
       "      <td>0</td>\n",
       "      <td>0</td>\n",
       "      <td>0</td>\n",
       "      <td>0</td>\n",
       "      <td>0</td>\n",
       "      <td>0</td>\n",
       "      <td>0</td>\n",
       "      <td>0</td>\n",
       "    </tr>\n",
       "    <tr>\n",
       "      <th>1</th>\n",
       "      <td>57</td>\n",
       "      <td>1</td>\n",
       "      <td>23.0</td>\n",
       "      <td>1</td>\n",
       "      <td>3</td>\n",
       "      <td>5</td>\n",
       "      <td>8</td>\n",
       "      <td>0</td>\n",
       "      <td>5.0</td>\n",
       "      <td>0.000000</td>\n",
       "      <td>...</td>\n",
       "      <td>0</td>\n",
       "      <td>0</td>\n",
       "      <td>0</td>\n",
       "      <td>0</td>\n",
       "      <td>0</td>\n",
       "      <td>0</td>\n",
       "      <td>0</td>\n",
       "      <td>0</td>\n",
       "      <td>0</td>\n",
       "      <td>0</td>\n",
       "    </tr>\n",
       "    <tr>\n",
       "      <th>2</th>\n",
       "      <td>115</td>\n",
       "      <td>1</td>\n",
       "      <td>22.0</td>\n",
       "      <td>1</td>\n",
       "      <td>3</td>\n",
       "      <td>5</td>\n",
       "      <td>9</td>\n",
       "      <td>0</td>\n",
       "      <td>5.0</td>\n",
       "      <td>0.000000</td>\n",
       "      <td>...</td>\n",
       "      <td>0</td>\n",
       "      <td>0</td>\n",
       "      <td>0</td>\n",
       "      <td>0</td>\n",
       "      <td>0</td>\n",
       "      <td>0</td>\n",
       "      <td>0</td>\n",
       "      <td>0</td>\n",
       "      <td>0</td>\n",
       "      <td>0</td>\n",
       "    </tr>\n",
       "    <tr>\n",
       "      <th>3</th>\n",
       "      <td>97</td>\n",
       "      <td>1</td>\n",
       "      <td>27.0</td>\n",
       "      <td>1</td>\n",
       "      <td>2</td>\n",
       "      <td>4</td>\n",
       "      <td>10</td>\n",
       "      <td>2</td>\n",
       "      <td>4.0</td>\n",
       "      <td>378.832920</td>\n",
       "      <td>...</td>\n",
       "      <td>0</td>\n",
       "      <td>0</td>\n",
       "      <td>0</td>\n",
       "      <td>0</td>\n",
       "      <td>0</td>\n",
       "      <td>0</td>\n",
       "      <td>0</td>\n",
       "      <td>0</td>\n",
       "      <td>0</td>\n",
       "      <td>0</td>\n",
       "    </tr>\n",
       "    <tr>\n",
       "      <th>4</th>\n",
       "      <td>42</td>\n",
       "      <td>0</td>\n",
       "      <td>59.0</td>\n",
       "      <td>0</td>\n",
       "      <td>4</td>\n",
       "      <td>6</td>\n",
       "      <td>10</td>\n",
       "      <td>4</td>\n",
       "      <td>6.0</td>\n",
       "      <td>258.671880</td>\n",
       "      <td>...</td>\n",
       "      <td>0</td>\n",
       "      <td>0</td>\n",
       "      <td>0</td>\n",
       "      <td>0</td>\n",
       "      <td>0</td>\n",
       "      <td>0</td>\n",
       "      <td>0</td>\n",
       "      <td>0</td>\n",
       "      <td>0</td>\n",
       "      <td>0</td>\n",
       "    </tr>\n",
       "    <tr>\n",
       "      <th>...</th>\n",
       "      <td>...</td>\n",
       "      <td>...</td>\n",
       "      <td>...</td>\n",
       "      <td>...</td>\n",
       "      <td>...</td>\n",
       "      <td>...</td>\n",
       "      <td>...</td>\n",
       "      <td>...</td>\n",
       "      <td>...</td>\n",
       "      <td>...</td>\n",
       "      <td>...</td>\n",
       "      <td>...</td>\n",
       "      <td>...</td>\n",
       "      <td>...</td>\n",
       "      <td>...</td>\n",
       "      <td>...</td>\n",
       "      <td>...</td>\n",
       "      <td>...</td>\n",
       "      <td>...</td>\n",
       "      <td>...</td>\n",
       "      <td>...</td>\n",
       "    </tr>\n",
       "    <tr>\n",
       "      <th>1138</th>\n",
       "      <td>152</td>\n",
       "      <td>1</td>\n",
       "      <td>36.0</td>\n",
       "      <td>0</td>\n",
       "      <td>4</td>\n",
       "      <td>5</td>\n",
       "      <td>9</td>\n",
       "      <td>0</td>\n",
       "      <td>5.0</td>\n",
       "      <td>0.000000</td>\n",
       "      <td>...</td>\n",
       "      <td>0</td>\n",
       "      <td>0</td>\n",
       "      <td>0</td>\n",
       "      <td>0</td>\n",
       "      <td>0</td>\n",
       "      <td>0</td>\n",
       "      <td>0</td>\n",
       "      <td>0</td>\n",
       "      <td>0</td>\n",
       "      <td>0</td>\n",
       "    </tr>\n",
       "    <tr>\n",
       "      <th>1139</th>\n",
       "      <td>104</td>\n",
       "      <td>1</td>\n",
       "      <td>23.0</td>\n",
       "      <td>1</td>\n",
       "      <td>0</td>\n",
       "      <td>2</td>\n",
       "      <td>10</td>\n",
       "      <td>0</td>\n",
       "      <td>2.0</td>\n",
       "      <td>93.073326</td>\n",
       "      <td>...</td>\n",
       "      <td>0</td>\n",
       "      <td>0</td>\n",
       "      <td>0</td>\n",
       "      <td>0</td>\n",
       "      <td>0</td>\n",
       "      <td>0</td>\n",
       "      <td>0</td>\n",
       "      <td>0</td>\n",
       "      <td>0</td>\n",
       "      <td>0</td>\n",
       "    </tr>\n",
       "    <tr>\n",
       "      <th>1140</th>\n",
       "      <td>54</td>\n",
       "      <td>1</td>\n",
       "      <td>28.0</td>\n",
       "      <td>1</td>\n",
       "      <td>5</td>\n",
       "      <td>7</td>\n",
       "      <td>10</td>\n",
       "      <td>5</td>\n",
       "      <td>7.0</td>\n",
       "      <td>387.758820</td>\n",
       "      <td>...</td>\n",
       "      <td>0</td>\n",
       "      <td>0</td>\n",
       "      <td>0</td>\n",
       "      <td>0</td>\n",
       "      <td>0</td>\n",
       "      <td>0</td>\n",
       "      <td>0</td>\n",
       "      <td>0</td>\n",
       "      <td>0</td>\n",
       "      <td>0</td>\n",
       "    </tr>\n",
       "    <tr>\n",
       "      <th>1141</th>\n",
       "      <td>3</td>\n",
       "      <td>1</td>\n",
       "      <td>33.0</td>\n",
       "      <td>0</td>\n",
       "      <td>4</td>\n",
       "      <td>5</td>\n",
       "      <td>9</td>\n",
       "      <td>0</td>\n",
       "      <td>5.0</td>\n",
       "      <td>0.000000</td>\n",
       "      <td>...</td>\n",
       "      <td>0</td>\n",
       "      <td>0</td>\n",
       "      <td>0</td>\n",
       "      <td>0</td>\n",
       "      <td>0</td>\n",
       "      <td>0</td>\n",
       "      <td>0</td>\n",
       "      <td>0</td>\n",
       "      <td>0</td>\n",
       "      <td>0</td>\n",
       "    </tr>\n",
       "    <tr>\n",
       "      <th>1142</th>\n",
       "      <td>18</td>\n",
       "      <td>1</td>\n",
       "      <td>39.0</td>\n",
       "      <td>1</td>\n",
       "      <td>0</td>\n",
       "      <td>4</td>\n",
       "      <td>12</td>\n",
       "      <td>0</td>\n",
       "      <td>4.0</td>\n",
       "      <td>178.984730</td>\n",
       "      <td>...</td>\n",
       "      <td>0</td>\n",
       "      <td>0</td>\n",
       "      <td>0</td>\n",
       "      <td>0</td>\n",
       "      <td>0</td>\n",
       "      <td>0</td>\n",
       "      <td>0</td>\n",
       "      <td>0</td>\n",
       "      <td>0</td>\n",
       "      <td>0</td>\n",
       "    </tr>\n",
       "  </tbody>\n",
       "</table>\n",
       "<p>1143 rows × 253 columns</p>\n",
       "</div>"
      ],
      "text/plain": [
       "      village  femaleres   age  married  children  hhsize  edu  hh_children  \\\n",
       "0          91          1  28.0        1         4       6   10            0   \n",
       "1          57          1  23.0        1         3       5    8            0   \n",
       "2         115          1  22.0        1         3       5    9            0   \n",
       "3          97          1  27.0        1         2       4   10            2   \n",
       "4          42          0  59.0        0         4       6   10            4   \n",
       "...       ...        ...   ...      ...       ...     ...  ...          ...   \n",
       "1138      152          1  36.0        0         4       5    9            0   \n",
       "1139      104          1  23.0        1         0       2   10            0   \n",
       "1140       54          1  28.0        1         5       7   10            5   \n",
       "1141        3          1  33.0        0         4       5    9            0   \n",
       "1142       18          1  39.0        1         0       4   12            0   \n",
       "\n",
       "      hh_totalmembers  cons_nondurable  ...  survey_date_30-May-60  \\\n",
       "0                 5.0         0.000000  ...                      0   \n",
       "1                 5.0         0.000000  ...                      0   \n",
       "2                 5.0         0.000000  ...                      0   \n",
       "3                 4.0       378.832920  ...                      0   \n",
       "4                 6.0       258.671880  ...                      0   \n",
       "...               ...              ...  ...                    ...   \n",
       "1138              5.0         0.000000  ...                      0   \n",
       "1139              2.0        93.073326  ...                      0   \n",
       "1140              7.0       387.758820  ...                      0   \n",
       "1141              5.0         0.000000  ...                      0   \n",
       "1142              4.0       178.984730  ...                      0   \n",
       "\n",
       "      survey_date_30-Nov-61  survey_date_30-Oct-60  survey_date_30-Oct-61  \\\n",
       "0                         0                      0                      0   \n",
       "1                         0                      0                      0   \n",
       "2                         0                      0                      0   \n",
       "3                         0                      0                      0   \n",
       "4                         0                      0                      0   \n",
       "...                     ...                    ...                    ...   \n",
       "1138                      0                      0                      0   \n",
       "1139                      0                      0                      0   \n",
       "1140                      0                      0                      0   \n",
       "1141                      0                      0                      0   \n",
       "1142                      0                      0                      0   \n",
       "\n",
       "      survey_date_30-Sep-60  survey_date_30-Sep-61  survey_date_31-Aug-61  \\\n",
       "0                         0                      0                      0   \n",
       "1                         0                      0                      0   \n",
       "2                         0                      0                      0   \n",
       "3                         0                      0                      0   \n",
       "4                         0                      0                      0   \n",
       "...                     ...                    ...                    ...   \n",
       "1138                      0                      0                      0   \n",
       "1139                      0                      0                      0   \n",
       "1140                      0                      0                      0   \n",
       "1141                      0                      0                      0   \n",
       "1142                      0                      0                      0   \n",
       "\n",
       "      survey_date_31-Dec-61  survey_date_31-May-60  survey_date_31-Oct-61  \n",
       "0                         0                      0                      0  \n",
       "1                         0                      0                      0  \n",
       "2                         0                      0                      0  \n",
       "3                         0                      0                      0  \n",
       "4                         0                      0                      0  \n",
       "...                     ...                    ...                    ...  \n",
       "1138                      0                      0                      0  \n",
       "1139                      0                      0                      0  \n",
       "1140                      0                      0                      0  \n",
       "1141                      0                      0                      0  \n",
       "1142                      0                      0                      0  \n",
       "\n",
       "[1143 rows x 253 columns]"
      ]
     },
     "execution_count": 35,
     "metadata": {},
     "output_type": "execute_result"
    }
   ],
   "source": [
    "data"
   ]
  },
  {
   "cell_type": "code",
   "execution_count": 36,
   "id": "8804a343",
   "metadata": {},
   "outputs": [],
   "source": [
    "# import MinMaxScaler\n",
    "from sklearn.preprocessing import MinMaxScaler\n",
    "\n",
    "def pre_process(data):\n",
    "    \n",
    "    scaler = MinMaxScaler(feature_range=(0,1))\n",
    "    \n",
    "    data = scaler.fit_transform(data)\n",
    "\n",
    "    return data"
   ]
  },
  {
   "cell_type": "code",
   "execution_count": 37,
   "id": "760d3f79",
   "metadata": {},
   "outputs": [
    {
     "data": {
      "text/html": [
       "<div>\n",
       "<style scoped>\n",
       "    .dataframe tbody tr th:only-of-type {\n",
       "        vertical-align: middle;\n",
       "    }\n",
       "\n",
       "    .dataframe tbody tr th {\n",
       "        vertical-align: top;\n",
       "    }\n",
       "\n",
       "    .dataframe thead th {\n",
       "        text-align: right;\n",
       "    }\n",
       "</style>\n",
       "<table border=\"1\" class=\"dataframe\">\n",
       "  <thead>\n",
       "    <tr style=\"text-align: right;\">\n",
       "      <th></th>\n",
       "      <th>village</th>\n",
       "      <th>femaleres</th>\n",
       "      <th>age</th>\n",
       "      <th>married</th>\n",
       "      <th>children</th>\n",
       "      <th>hhsize</th>\n",
       "      <th>edu</th>\n",
       "      <th>hh_children</th>\n",
       "      <th>hh_totalmembers</th>\n",
       "      <th>cons_nondurable</th>\n",
       "      <th>...</th>\n",
       "      <th>survey_date_30-May-60</th>\n",
       "      <th>survey_date_30-Nov-61</th>\n",
       "      <th>survey_date_30-Oct-60</th>\n",
       "      <th>survey_date_30-Oct-61</th>\n",
       "      <th>survey_date_30-Sep-60</th>\n",
       "      <th>survey_date_30-Sep-61</th>\n",
       "      <th>survey_date_31-Aug-61</th>\n",
       "      <th>survey_date_31-Dec-61</th>\n",
       "      <th>survey_date_31-May-60</th>\n",
       "      <th>survey_date_31-Oct-61</th>\n",
       "    </tr>\n",
       "  </thead>\n",
       "  <tbody>\n",
       "    <tr>\n",
       "      <th>0</th>\n",
       "      <td>91</td>\n",
       "      <td>1</td>\n",
       "      <td>28.0</td>\n",
       "      <td>1</td>\n",
       "      <td>4</td>\n",
       "      <td>6</td>\n",
       "      <td>10</td>\n",
       "      <td>0</td>\n",
       "      <td>5.0</td>\n",
       "      <td>0.000000</td>\n",
       "      <td>...</td>\n",
       "      <td>0</td>\n",
       "      <td>0</td>\n",
       "      <td>0</td>\n",
       "      <td>0</td>\n",
       "      <td>0</td>\n",
       "      <td>0</td>\n",
       "      <td>0</td>\n",
       "      <td>0</td>\n",
       "      <td>0</td>\n",
       "      <td>0</td>\n",
       "    </tr>\n",
       "    <tr>\n",
       "      <th>1</th>\n",
       "      <td>57</td>\n",
       "      <td>1</td>\n",
       "      <td>23.0</td>\n",
       "      <td>1</td>\n",
       "      <td>3</td>\n",
       "      <td>5</td>\n",
       "      <td>8</td>\n",
       "      <td>0</td>\n",
       "      <td>5.0</td>\n",
       "      <td>0.000000</td>\n",
       "      <td>...</td>\n",
       "      <td>0</td>\n",
       "      <td>0</td>\n",
       "      <td>0</td>\n",
       "      <td>0</td>\n",
       "      <td>0</td>\n",
       "      <td>0</td>\n",
       "      <td>0</td>\n",
       "      <td>0</td>\n",
       "      <td>0</td>\n",
       "      <td>0</td>\n",
       "    </tr>\n",
       "    <tr>\n",
       "      <th>2</th>\n",
       "      <td>115</td>\n",
       "      <td>1</td>\n",
       "      <td>22.0</td>\n",
       "      <td>1</td>\n",
       "      <td>3</td>\n",
       "      <td>5</td>\n",
       "      <td>9</td>\n",
       "      <td>0</td>\n",
       "      <td>5.0</td>\n",
       "      <td>0.000000</td>\n",
       "      <td>...</td>\n",
       "      <td>0</td>\n",
       "      <td>0</td>\n",
       "      <td>0</td>\n",
       "      <td>0</td>\n",
       "      <td>0</td>\n",
       "      <td>0</td>\n",
       "      <td>0</td>\n",
       "      <td>0</td>\n",
       "      <td>0</td>\n",
       "      <td>0</td>\n",
       "    </tr>\n",
       "    <tr>\n",
       "      <th>3</th>\n",
       "      <td>97</td>\n",
       "      <td>1</td>\n",
       "      <td>27.0</td>\n",
       "      <td>1</td>\n",
       "      <td>2</td>\n",
       "      <td>4</td>\n",
       "      <td>10</td>\n",
       "      <td>2</td>\n",
       "      <td>4.0</td>\n",
       "      <td>378.832920</td>\n",
       "      <td>...</td>\n",
       "      <td>0</td>\n",
       "      <td>0</td>\n",
       "      <td>0</td>\n",
       "      <td>0</td>\n",
       "      <td>0</td>\n",
       "      <td>0</td>\n",
       "      <td>0</td>\n",
       "      <td>0</td>\n",
       "      <td>0</td>\n",
       "      <td>0</td>\n",
       "    </tr>\n",
       "    <tr>\n",
       "      <th>4</th>\n",
       "      <td>42</td>\n",
       "      <td>0</td>\n",
       "      <td>59.0</td>\n",
       "      <td>0</td>\n",
       "      <td>4</td>\n",
       "      <td>6</td>\n",
       "      <td>10</td>\n",
       "      <td>4</td>\n",
       "      <td>6.0</td>\n",
       "      <td>258.671880</td>\n",
       "      <td>...</td>\n",
       "      <td>0</td>\n",
       "      <td>0</td>\n",
       "      <td>0</td>\n",
       "      <td>0</td>\n",
       "      <td>0</td>\n",
       "      <td>0</td>\n",
       "      <td>0</td>\n",
       "      <td>0</td>\n",
       "      <td>0</td>\n",
       "      <td>0</td>\n",
       "    </tr>\n",
       "    <tr>\n",
       "      <th>...</th>\n",
       "      <td>...</td>\n",
       "      <td>...</td>\n",
       "      <td>...</td>\n",
       "      <td>...</td>\n",
       "      <td>...</td>\n",
       "      <td>...</td>\n",
       "      <td>...</td>\n",
       "      <td>...</td>\n",
       "      <td>...</td>\n",
       "      <td>...</td>\n",
       "      <td>...</td>\n",
       "      <td>...</td>\n",
       "      <td>...</td>\n",
       "      <td>...</td>\n",
       "      <td>...</td>\n",
       "      <td>...</td>\n",
       "      <td>...</td>\n",
       "      <td>...</td>\n",
       "      <td>...</td>\n",
       "      <td>...</td>\n",
       "      <td>...</td>\n",
       "    </tr>\n",
       "    <tr>\n",
       "      <th>1138</th>\n",
       "      <td>152</td>\n",
       "      <td>1</td>\n",
       "      <td>36.0</td>\n",
       "      <td>0</td>\n",
       "      <td>4</td>\n",
       "      <td>5</td>\n",
       "      <td>9</td>\n",
       "      <td>0</td>\n",
       "      <td>5.0</td>\n",
       "      <td>0.000000</td>\n",
       "      <td>...</td>\n",
       "      <td>0</td>\n",
       "      <td>0</td>\n",
       "      <td>0</td>\n",
       "      <td>0</td>\n",
       "      <td>0</td>\n",
       "      <td>0</td>\n",
       "      <td>0</td>\n",
       "      <td>0</td>\n",
       "      <td>0</td>\n",
       "      <td>0</td>\n",
       "    </tr>\n",
       "    <tr>\n",
       "      <th>1139</th>\n",
       "      <td>104</td>\n",
       "      <td>1</td>\n",
       "      <td>23.0</td>\n",
       "      <td>1</td>\n",
       "      <td>0</td>\n",
       "      <td>2</td>\n",
       "      <td>10</td>\n",
       "      <td>0</td>\n",
       "      <td>2.0</td>\n",
       "      <td>93.073326</td>\n",
       "      <td>...</td>\n",
       "      <td>0</td>\n",
       "      <td>0</td>\n",
       "      <td>0</td>\n",
       "      <td>0</td>\n",
       "      <td>0</td>\n",
       "      <td>0</td>\n",
       "      <td>0</td>\n",
       "      <td>0</td>\n",
       "      <td>0</td>\n",
       "      <td>0</td>\n",
       "    </tr>\n",
       "    <tr>\n",
       "      <th>1140</th>\n",
       "      <td>54</td>\n",
       "      <td>1</td>\n",
       "      <td>28.0</td>\n",
       "      <td>1</td>\n",
       "      <td>5</td>\n",
       "      <td>7</td>\n",
       "      <td>10</td>\n",
       "      <td>5</td>\n",
       "      <td>7.0</td>\n",
       "      <td>387.758820</td>\n",
       "      <td>...</td>\n",
       "      <td>0</td>\n",
       "      <td>0</td>\n",
       "      <td>0</td>\n",
       "      <td>0</td>\n",
       "      <td>0</td>\n",
       "      <td>0</td>\n",
       "      <td>0</td>\n",
       "      <td>0</td>\n",
       "      <td>0</td>\n",
       "      <td>0</td>\n",
       "    </tr>\n",
       "    <tr>\n",
       "      <th>1141</th>\n",
       "      <td>3</td>\n",
       "      <td>1</td>\n",
       "      <td>33.0</td>\n",
       "      <td>0</td>\n",
       "      <td>4</td>\n",
       "      <td>5</td>\n",
       "      <td>9</td>\n",
       "      <td>0</td>\n",
       "      <td>5.0</td>\n",
       "      <td>0.000000</td>\n",
       "      <td>...</td>\n",
       "      <td>0</td>\n",
       "      <td>0</td>\n",
       "      <td>0</td>\n",
       "      <td>0</td>\n",
       "      <td>0</td>\n",
       "      <td>0</td>\n",
       "      <td>0</td>\n",
       "      <td>0</td>\n",
       "      <td>0</td>\n",
       "      <td>0</td>\n",
       "    </tr>\n",
       "    <tr>\n",
       "      <th>1142</th>\n",
       "      <td>18</td>\n",
       "      <td>1</td>\n",
       "      <td>39.0</td>\n",
       "      <td>1</td>\n",
       "      <td>0</td>\n",
       "      <td>4</td>\n",
       "      <td>12</td>\n",
       "      <td>0</td>\n",
       "      <td>4.0</td>\n",
       "      <td>178.984730</td>\n",
       "      <td>...</td>\n",
       "      <td>0</td>\n",
       "      <td>0</td>\n",
       "      <td>0</td>\n",
       "      <td>0</td>\n",
       "      <td>0</td>\n",
       "      <td>0</td>\n",
       "      <td>0</td>\n",
       "      <td>0</td>\n",
       "      <td>0</td>\n",
       "      <td>0</td>\n",
       "    </tr>\n",
       "  </tbody>\n",
       "</table>\n",
       "<p>1143 rows × 253 columns</p>\n",
       "</div>"
      ],
      "text/plain": [
       "      village  femaleres   age  married  children  hhsize  edu  hh_children  \\\n",
       "0          91          1  28.0        1         4       6   10            0   \n",
       "1          57          1  23.0        1         3       5    8            0   \n",
       "2         115          1  22.0        1         3       5    9            0   \n",
       "3          97          1  27.0        1         2       4   10            2   \n",
       "4          42          0  59.0        0         4       6   10            4   \n",
       "...       ...        ...   ...      ...       ...     ...  ...          ...   \n",
       "1138      152          1  36.0        0         4       5    9            0   \n",
       "1139      104          1  23.0        1         0       2   10            0   \n",
       "1140       54          1  28.0        1         5       7   10            5   \n",
       "1141        3          1  33.0        0         4       5    9            0   \n",
       "1142       18          1  39.0        1         0       4   12            0   \n",
       "\n",
       "      hh_totalmembers  cons_nondurable  ...  survey_date_30-May-60  \\\n",
       "0                 5.0         0.000000  ...                      0   \n",
       "1                 5.0         0.000000  ...                      0   \n",
       "2                 5.0         0.000000  ...                      0   \n",
       "3                 4.0       378.832920  ...                      0   \n",
       "4                 6.0       258.671880  ...                      0   \n",
       "...               ...              ...  ...                    ...   \n",
       "1138              5.0         0.000000  ...                      0   \n",
       "1139              2.0        93.073326  ...                      0   \n",
       "1140              7.0       387.758820  ...                      0   \n",
       "1141              5.0         0.000000  ...                      0   \n",
       "1142              4.0       178.984730  ...                      0   \n",
       "\n",
       "      survey_date_30-Nov-61  survey_date_30-Oct-60  survey_date_30-Oct-61  \\\n",
       "0                         0                      0                      0   \n",
       "1                         0                      0                      0   \n",
       "2                         0                      0                      0   \n",
       "3                         0                      0                      0   \n",
       "4                         0                      0                      0   \n",
       "...                     ...                    ...                    ...   \n",
       "1138                      0                      0                      0   \n",
       "1139                      0                      0                      0   \n",
       "1140                      0                      0                      0   \n",
       "1141                      0                      0                      0   \n",
       "1142                      0                      0                      0   \n",
       "\n",
       "      survey_date_30-Sep-60  survey_date_30-Sep-61  survey_date_31-Aug-61  \\\n",
       "0                         0                      0                      0   \n",
       "1                         0                      0                      0   \n",
       "2                         0                      0                      0   \n",
       "3                         0                      0                      0   \n",
       "4                         0                      0                      0   \n",
       "...                     ...                    ...                    ...   \n",
       "1138                      0                      0                      0   \n",
       "1139                      0                      0                      0   \n",
       "1140                      0                      0                      0   \n",
       "1141                      0                      0                      0   \n",
       "1142                      0                      0                      0   \n",
       "\n",
       "      survey_date_31-Dec-61  survey_date_31-May-60  survey_date_31-Oct-61  \n",
       "0                         0                      0                      0  \n",
       "1                         0                      0                      0  \n",
       "2                         0                      0                      0  \n",
       "3                         0                      0                      0  \n",
       "4                         0                      0                      0  \n",
       "...                     ...                    ...                    ...  \n",
       "1138                      0                      0                      0  \n",
       "1139                      0                      0                      0  \n",
       "1140                      0                      0                      0  \n",
       "1141                      0                      0                      0  \n",
       "1142                      0                      0                      0  \n",
       "\n",
       "[1143 rows x 253 columns]"
      ]
     },
     "execution_count": 37,
     "metadata": {},
     "output_type": "execute_result"
    }
   ],
   "source": [
    "data"
   ]
  }
 ],
 "metadata": {
  "kernelspec": {
   "display_name": "Python 3 (ipykernel)",
   "language": "python",
   "name": "python3"
  },
  "language_info": {
   "codemirror_mode": {
    "name": "ipython",
    "version": 3
   },
   "file_extension": ".py",
   "mimetype": "text/x-python",
   "name": "python",
   "nbconvert_exporter": "python",
   "pygments_lexer": "ipython3",
   "version": "3.9.12"
  }
 },
 "nbformat": 4,
 "nbformat_minor": 5
}
